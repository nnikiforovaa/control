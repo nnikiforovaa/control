{
 "cells": [
  {
   "cell_type": "markdown",
   "metadata": {},
   "source": [
    "## Регрессионная нейронная сеть"
   ]
  },
  {
   "cell_type": "code",
   "execution_count": 1,
   "metadata": {},
   "outputs": [],
   "source": [
    "import numpy as np\n",
    "import matplotlib.pyplot as plt\n",
    "import pandas as pd"
   ]
  },
  {
   "cell_type": "markdown",
   "metadata": {},
   "source": [
    "Импортируем наш датасет"
   ]
  },
  {
   "cell_type": "code",
   "execution_count": 2,
   "metadata": {},
   "outputs": [],
   "source": [
    "import pickle\n",
    "input = open('data_reg.pkl', 'rb')\n",
    "obj = pickle.load(input)\n",
    "input.close()\n",
    "X_train = obj[\"X_train\"]\n",
    "X_test = obj[\"X_test\"]\n",
    "y_train = obj[\"y_train\"]\n",
    "y_test = obj[\"y_test\"]\n",
    "\n",
    "y_train = np.asarray(y_train).reshape(-1,1)\n",
    "y_test = np.asarray(y_test).reshape(-1,1)"
   ]
  },
  {
   "cell_type": "markdown",
   "metadata": {},
   "source": [
    "Проводим шкалирование."
   ]
  },
  {
   "cell_type": "code",
   "execution_count": 3,
   "metadata": {},
   "outputs": [],
   "source": [
    "from sklearn.preprocessing import StandardScaler\n",
    "sc_X = StandardScaler().fit(X_train)\n",
    "X_train = sc_X.transform(X_train)\n",
    "X_test = sc_X.transform(X_test)\n",
    "sc_y = StandardScaler().fit(y_train)\n",
    "y_train = sc_y.transform(y_train)\n",
    "y_test = sc_y.transform(y_test)"
   ]
  },
  {
   "cell_type": "code",
   "execution_count": 4,
   "metadata": {},
   "outputs": [],
   "source": [
    "import keras\n",
    "from keras.models import Sequential\n",
    "from keras.layers import Dense"
   ]
  },
  {
   "cell_type": "markdown",
   "metadata": {},
   "source": [
    "Прописываем структуру нашей сети (стоит отметить, что структура, которая описана ниже была получена экспериментальным путём). Добавляем исходный слой. На входе 11 нейронов.У нас нейронная сеть с расширением. Выбранная функция-тангенс, так как нам подходит диапазон её изменения.Добавляем 2 слой.И добавляем последний слой."
   ]
  },
  {
   "cell_type": "code",
   "execution_count": 5,
   "metadata": {},
   "outputs": [],
   "source": [
    "rnn = Sequential()\n",
    "\n",
    "rnn.add(Dense(12, activation = 'tanh', input_dim = 11))\n",
    "\n",
    "rnn.add(Dense(8, activation = 'tanh'))\n",
    "\n",
    "rnn.add(Dense(1, activation = 'linear'))\n",
    "\n",
    "rnn.compile(optimizer='adam', loss='mean_squared_error', metrics = ['accuracy'])"
   ]
  },
  {
   "cell_type": "markdown",
   "metadata": {},
   "source": [
    "Проводим обучение. "
   ]
  },
  {
   "cell_type": "code",
   "execution_count": 6,
   "metadata": {},
   "outputs": [
    {
     "name": "stdout",
     "output_type": "stream",
     "text": [
      "Epoch 1/100\n",
      "7/7 [==============================] - 0s 20ms/step - loss: 0.9035 - accuracy: 0.0000e+00 - val_loss: 0.7697 - val_accuracy: 0.0000e+00\n",
      "Epoch 2/100\n",
      "7/7 [==============================] - 0s 5ms/step - loss: 0.8304 - accuracy: 0.0000e+00 - val_loss: 0.7278 - val_accuracy: 0.0000e+00\n",
      "Epoch 3/100\n",
      "7/7 [==============================] - 0s 4ms/step - loss: 0.7748 - accuracy: 0.0000e+00 - val_loss: 0.6895 - val_accuracy: 0.0000e+00\n",
      "Epoch 4/100\n",
      "7/7 [==============================] - 0s 4ms/step - loss: 0.7264 - accuracy: 0.0000e+00 - val_loss: 0.6585 - val_accuracy: 0.0000e+00\n",
      "Epoch 5/100\n",
      "7/7 [==============================] - 0s 4ms/step - loss: 0.6862 - accuracy: 0.0000e+00 - val_loss: 0.6260 - val_accuracy: 0.0000e+00\n",
      "Epoch 6/100\n",
      "7/7 [==============================] - 0s 3ms/step - loss: 0.6517 - accuracy: 0.0000e+00 - val_loss: 0.5960 - val_accuracy: 0.0000e+00\n",
      "Epoch 7/100\n",
      "7/7 [==============================] - 0s 4ms/step - loss: 0.6295 - accuracy: 0.0000e+00 - val_loss: 0.5686 - val_accuracy: 0.0000e+00\n",
      "Epoch 8/100\n",
      "7/7 [==============================] - 0s 3ms/step - loss: 0.5982 - accuracy: 0.0000e+00 - val_loss: 0.5494 - val_accuracy: 0.0000e+00\n",
      "Epoch 9/100\n",
      "7/7 [==============================] - 0s 4ms/step - loss: 0.5786 - accuracy: 0.0000e+00 - val_loss: 0.5353 - val_accuracy: 0.0000e+00\n",
      "Epoch 10/100\n",
      "7/7 [==============================] - 0s 3ms/step - loss: 0.5604 - accuracy: 0.0000e+00 - val_loss: 0.5214 - val_accuracy: 0.0000e+00\n",
      "Epoch 11/100\n",
      "7/7 [==============================] - 0s 5ms/step - loss: 0.5433 - accuracy: 0.0000e+00 - val_loss: 0.5104 - val_accuracy: 0.0000e+00\n",
      "Epoch 12/100\n",
      "7/7 [==============================] - 0s 3ms/step - loss: 0.5305 - accuracy: 0.0000e+00 - val_loss: 0.5029 - val_accuracy: 0.0000e+00\n",
      "Epoch 13/100\n",
      "7/7 [==============================] - 0s 4ms/step - loss: 0.5200 - accuracy: 0.0000e+00 - val_loss: 0.4935 - val_accuracy: 0.0000e+00\n",
      "Epoch 14/100\n",
      "7/7 [==============================] - 0s 4ms/step - loss: 0.5058 - accuracy: 0.0000e+00 - val_loss: 0.4867 - val_accuracy: 0.0000e+00\n",
      "Epoch 15/100\n",
      "7/7 [==============================] - 0s 4ms/step - loss: 0.4968 - accuracy: 0.0000e+00 - val_loss: 0.4789 - val_accuracy: 0.0000e+00\n",
      "Epoch 16/100\n",
      "7/7 [==============================] - 0s 3ms/step - loss: 0.4863 - accuracy: 0.0000e+00 - val_loss: 0.4750 - val_accuracy: 0.0000e+00\n",
      "Epoch 17/100\n",
      "7/7 [==============================] - 0s 3ms/step - loss: 0.4777 - accuracy: 0.0000e+00 - val_loss: 0.4741 - val_accuracy: 0.0000e+00\n",
      "Epoch 18/100\n",
      "7/7 [==============================] - 0s 4ms/step - loss: 0.4702 - accuracy: 0.0000e+00 - val_loss: 0.4702 - val_accuracy: 0.0000e+00\n",
      "Epoch 19/100\n",
      "7/7 [==============================] - 0s 3ms/step - loss: 0.4630 - accuracy: 0.0000e+00 - val_loss: 0.4693 - val_accuracy: 0.0000e+00\n",
      "Epoch 20/100\n",
      "7/7 [==============================] - 0s 3ms/step - loss: 0.4545 - accuracy: 0.0000e+00 - val_loss: 0.4679 - val_accuracy: 0.0000e+00\n",
      "Epoch 21/100\n",
      "7/7 [==============================] - 0s 5ms/step - loss: 0.4478 - accuracy: 0.0000e+00 - val_loss: 0.4674 - val_accuracy: 0.0000e+00\n",
      "Epoch 22/100\n",
      "7/7 [==============================] - 0s 4ms/step - loss: 0.4414 - accuracy: 0.0000e+00 - val_loss: 0.4693 - val_accuracy: 0.0000e+00\n",
      "Epoch 23/100\n",
      "7/7 [==============================] - 0s 3ms/step - loss: 0.4351 - accuracy: 0.0000e+00 - val_loss: 0.4656 - val_accuracy: 0.0000e+00\n",
      "Epoch 24/100\n",
      "7/7 [==============================] - 0s 4ms/step - loss: 0.4288 - accuracy: 0.0000e+00 - val_loss: 0.4626 - val_accuracy: 0.0000e+00\n",
      "Epoch 25/100\n",
      "7/7 [==============================] - 0s 3ms/step - loss: 0.4215 - accuracy: 0.0000e+00 - val_loss: 0.4634 - val_accuracy: 0.0000e+00\n",
      "Epoch 26/100\n",
      "7/7 [==============================] - 0s 4ms/step - loss: 0.4158 - accuracy: 0.0000e+00 - val_loss: 0.4633 - val_accuracy: 0.0000e+00\n",
      "Epoch 27/100\n",
      "7/7 [==============================] - 0s 3ms/step - loss: 0.4113 - accuracy: 0.0000e+00 - val_loss: 0.4669 - val_accuracy: 0.0000e+00\n",
      "Epoch 28/100\n",
      "7/7 [==============================] - 0s 4ms/step - loss: 0.4069 - accuracy: 0.0000e+00 - val_loss: 0.4650 - val_accuracy: 0.0000e+00\n",
      "Epoch 29/100\n",
      "7/7 [==============================] - 0s 4ms/step - loss: 0.4003 - accuracy: 0.0000e+00 - val_loss: 0.4662 - val_accuracy: 0.0000e+00\n",
      "Epoch 30/100\n",
      "7/7 [==============================] - 0s 4ms/step - loss: 0.3937 - accuracy: 0.0000e+00 - val_loss: 0.4662 - val_accuracy: 0.0000e+00\n",
      "Epoch 31/100\n",
      "7/7 [==============================] - 0s 4ms/step - loss: 0.3899 - accuracy: 0.0000e+00 - val_loss: 0.4675 - val_accuracy: 0.0000e+00\n",
      "Epoch 32/100\n",
      "7/7 [==============================] - 0s 4ms/step - loss: 0.3844 - accuracy: 0.0000e+00 - val_loss: 0.4677 - val_accuracy: 0.0000e+00\n",
      "Epoch 33/100\n",
      "7/7 [==============================] - 0s 3ms/step - loss: 0.3799 - accuracy: 0.0000e+00 - val_loss: 0.4702 - val_accuracy: 0.0000e+00\n",
      "Epoch 34/100\n",
      "7/7 [==============================] - 0s 4ms/step - loss: 0.3755 - accuracy: 0.0000e+00 - val_loss: 0.4699 - val_accuracy: 0.0000e+00\n",
      "Epoch 35/100\n",
      "7/7 [==============================] - 0s 4ms/step - loss: 0.3714 - accuracy: 0.0000e+00 - val_loss: 0.4714 - val_accuracy: 0.0000e+00\n",
      "Epoch 36/100\n",
      "7/7 [==============================] - 0s 4ms/step - loss: 0.3664 - accuracy: 0.0000e+00 - val_loss: 0.4690 - val_accuracy: 0.0000e+00\n",
      "Epoch 37/100\n",
      "7/7 [==============================] - 0s 4ms/step - loss: 0.3617 - accuracy: 0.0000e+00 - val_loss: 0.4716 - val_accuracy: 0.0000e+00\n",
      "Epoch 38/100\n",
      "7/7 [==============================] - 0s 3ms/step - loss: 0.3583 - accuracy: 0.0000e+00 - val_loss: 0.4757 - val_accuracy: 0.0000e+00\n",
      "Epoch 39/100\n",
      "7/7 [==============================] - 0s 3ms/step - loss: 0.3528 - accuracy: 0.0000e+00 - val_loss: 0.4773 - val_accuracy: 0.0000e+00\n",
      "Epoch 40/100\n",
      "7/7 [==============================] - 0s 3ms/step - loss: 0.3495 - accuracy: 0.0000e+00 - val_loss: 0.4768 - val_accuracy: 0.0000e+00\n",
      "Epoch 41/100\n",
      "7/7 [==============================] - 0s 3ms/step - loss: 0.3458 - accuracy: 0.0000e+00 - val_loss: 0.4806 - val_accuracy: 0.0000e+00\n",
      "Epoch 42/100\n",
      "7/7 [==============================] - 0s 3ms/step - loss: 0.3413 - accuracy: 0.0000e+00 - val_loss: 0.4815 - val_accuracy: 0.0000e+00\n",
      "Epoch 43/100\n",
      "7/7 [==============================] - 0s 3ms/step - loss: 0.3377 - accuracy: 0.0000e+00 - val_loss: 0.4836 - val_accuracy: 0.0000e+00\n",
      "Epoch 44/100\n",
      "7/7 [==============================] - 0s 3ms/step - loss: 0.3343 - accuracy: 0.0000e+00 - val_loss: 0.4825 - val_accuracy: 0.0000e+00\n",
      "Epoch 45/100\n",
      "7/7 [==============================] - 0s 3ms/step - loss: 0.3315 - accuracy: 0.0000e+00 - val_loss: 0.4800 - val_accuracy: 0.0000e+00\n",
      "Epoch 46/100\n",
      "7/7 [==============================] - 0s 3ms/step - loss: 0.3269 - accuracy: 0.0000e+00 - val_loss: 0.4818 - val_accuracy: 0.0000e+00\n",
      "Epoch 47/100\n",
      "7/7 [==============================] - 0s 3ms/step - loss: 0.3240 - accuracy: 0.0000e+00 - val_loss: 0.4862 - val_accuracy: 0.0000e+00\n",
      "Epoch 48/100\n",
      "7/7 [==============================] - 0s 3ms/step - loss: 0.3200 - accuracy: 0.0000e+00 - val_loss: 0.4845 - val_accuracy: 0.0000e+00\n",
      "Epoch 49/100\n",
      "7/7 [==============================] - 0s 3ms/step - loss: 0.3164 - accuracy: 0.0000e+00 - val_loss: 0.4861 - val_accuracy: 0.0000e+00\n",
      "Epoch 50/100\n",
      "7/7 [==============================] - 0s 3ms/step - loss: 0.3132 - accuracy: 0.0000e+00 - val_loss: 0.4910 - val_accuracy: 0.0000e+00\n",
      "Epoch 51/100\n",
      "7/7 [==============================] - 0s 3ms/step - loss: 0.3096 - accuracy: 0.0000e+00 - val_loss: 0.4932 - val_accuracy: 0.0000e+00\n",
      "Epoch 52/100\n",
      "7/7 [==============================] - 0s 3ms/step - loss: 0.3066 - accuracy: 0.0000e+00 - val_loss: 0.4951 - val_accuracy: 0.0000e+00\n",
      "Epoch 53/100\n",
      "7/7 [==============================] - 0s 3ms/step - loss: 0.3036 - accuracy: 0.0000e+00 - val_loss: 0.4981 - val_accuracy: 0.0000e+00\n",
      "Epoch 54/100\n",
      "7/7 [==============================] - 0s 4ms/step - loss: 0.3005 - accuracy: 0.0000e+00 - val_loss: 0.5000 - val_accuracy: 0.0000e+00\n",
      "Epoch 55/100\n",
      "7/7 [==============================] - 0s 3ms/step - loss: 0.2968 - accuracy: 0.0000e+00 - val_loss: 0.5006 - val_accuracy: 0.0000e+00\n",
      "Epoch 56/100\n"
     ]
    },
    {
     "name": "stdout",
     "output_type": "stream",
     "text": [
      "7/7 [==============================] - 0s 3ms/step - loss: 0.2937 - accuracy: 0.0000e+00 - val_loss: 0.5035 - val_accuracy: 0.0000e+00\n",
      "Epoch 57/100\n",
      "7/7 [==============================] - 0s 3ms/step - loss: 0.2908 - accuracy: 0.0000e+00 - val_loss: 0.5032 - val_accuracy: 0.0000e+00\n",
      "Epoch 58/100\n",
      "7/7 [==============================] - 0s 3ms/step - loss: 0.2874 - accuracy: 0.0000e+00 - val_loss: 0.5039 - val_accuracy: 0.0000e+00\n",
      "Epoch 59/100\n",
      "7/7 [==============================] - 0s 3ms/step - loss: 0.2847 - accuracy: 0.0000e+00 - val_loss: 0.5115 - val_accuracy: 0.0000e+00\n",
      "Epoch 60/100\n",
      "7/7 [==============================] - 0s 3ms/step - loss: 0.2812 - accuracy: 0.0000e+00 - val_loss: 0.5136 - val_accuracy: 0.0000e+00\n",
      "Epoch 61/100\n",
      "7/7 [==============================] - 0s 3ms/step - loss: 0.2787 - accuracy: 0.0000e+00 - val_loss: 0.5148 - val_accuracy: 0.0000e+00\n",
      "Epoch 62/100\n",
      "7/7 [==============================] - 0s 3ms/step - loss: 0.2753 - accuracy: 0.0000e+00 - val_loss: 0.5155 - val_accuracy: 0.0000e+00\n",
      "Epoch 63/100\n",
      "7/7 [==============================] - 0s 3ms/step - loss: 0.2724 - accuracy: 0.0000e+00 - val_loss: 0.5177 - val_accuracy: 0.0000e+00\n",
      "Epoch 64/100\n",
      "7/7 [==============================] - 0s 3ms/step - loss: 0.2695 - accuracy: 0.0000e+00 - val_loss: 0.5205 - val_accuracy: 0.0000e+00\n",
      "Epoch 65/100\n",
      "7/7 [==============================] - 0s 3ms/step - loss: 0.2670 - accuracy: 0.0000e+00 - val_loss: 0.5244 - val_accuracy: 0.0000e+00\n",
      "Epoch 66/100\n",
      "7/7 [==============================] - 0s 3ms/step - loss: 0.2642 - accuracy: 0.0000e+00 - val_loss: 0.5286 - val_accuracy: 0.0000e+00\n",
      "Epoch 67/100\n",
      "7/7 [==============================] - 0s 3ms/step - loss: 0.2610 - accuracy: 0.0000e+00 - val_loss: 0.5273 - val_accuracy: 0.0000e+00\n",
      "Epoch 68/100\n",
      "7/7 [==============================] - 0s 3ms/step - loss: 0.2584 - accuracy: 0.0000e+00 - val_loss: 0.5267 - val_accuracy: 0.0000e+00\n",
      "Epoch 69/100\n",
      "7/7 [==============================] - 0s 3ms/step - loss: 0.2560 - accuracy: 0.0000e+00 - val_loss: 0.5289 - val_accuracy: 0.0000e+00\n",
      "Epoch 70/100\n",
      "7/7 [==============================] - 0s 3ms/step - loss: 0.2533 - accuracy: 0.0000e+00 - val_loss: 0.5327 - val_accuracy: 0.0000e+00\n",
      "Epoch 71/100\n",
      "7/7 [==============================] - 0s 3ms/step - loss: 0.2503 - accuracy: 0.0000e+00 - val_loss: 0.5324 - val_accuracy: 0.0000e+00\n",
      "Epoch 72/100\n",
      "7/7 [==============================] - 0s 3ms/step - loss: 0.2487 - accuracy: 0.0000e+00 - val_loss: 0.5406 - val_accuracy: 0.0000e+00\n",
      "Epoch 73/100\n",
      "7/7 [==============================] - 0s 3ms/step - loss: 0.2448 - accuracy: 0.0000e+00 - val_loss: 0.5395 - val_accuracy: 0.0000e+00\n",
      "Epoch 74/100\n",
      "7/7 [==============================] - 0s 3ms/step - loss: 0.2431 - accuracy: 0.0000e+00 - val_loss: 0.5384 - val_accuracy: 0.0000e+00\n",
      "Epoch 75/100\n",
      "7/7 [==============================] - 0s 3ms/step - loss: 0.2396 - accuracy: 0.0000e+00 - val_loss: 0.5443 - val_accuracy: 0.0000e+00\n",
      "Epoch 76/100\n",
      "7/7 [==============================] - 0s 3ms/step - loss: 0.2367 - accuracy: 0.0000e+00 - val_loss: 0.5455 - val_accuracy: 0.0000e+00\n",
      "Epoch 77/100\n",
      "7/7 [==============================] - 0s 3ms/step - loss: 0.2346 - accuracy: 0.0000e+00 - val_loss: 0.5500 - val_accuracy: 0.0000e+00\n",
      "Epoch 78/100\n",
      "7/7 [==============================] - 0s 3ms/step - loss: 0.2316 - accuracy: 0.0000e+00 - val_loss: 0.5502 - val_accuracy: 0.0000e+00\n",
      "Epoch 79/100\n",
      "7/7 [==============================] - 0s 3ms/step - loss: 0.2296 - accuracy: 0.0000e+00 - val_loss: 0.5522 - val_accuracy: 0.0000e+00\n",
      "Epoch 80/100\n",
      "7/7 [==============================] - 0s 8ms/step - loss: 0.2269 - accuracy: 0.0000e+00 - val_loss: 0.5569 - val_accuracy: 0.0000e+00\n",
      "Epoch 81/100\n",
      "7/7 [==============================] - 0s 3ms/step - loss: 0.2250 - accuracy: 0.0000e+00 - val_loss: 0.5551 - val_accuracy: 0.0000e+00\n",
      "Epoch 82/100\n",
      "7/7 [==============================] - 0s 3ms/step - loss: 0.2221 - accuracy: 0.0000e+00 - val_loss: 0.5580 - val_accuracy: 0.0000e+00\n",
      "Epoch 83/100\n",
      "7/7 [==============================] - 0s 3ms/step - loss: 0.2196 - accuracy: 0.0000e+00 - val_loss: 0.5578 - val_accuracy: 0.0000e+00\n",
      "Epoch 84/100\n",
      "7/7 [==============================] - 0s 3ms/step - loss: 0.2172 - accuracy: 0.0000e+00 - val_loss: 0.5570 - val_accuracy: 0.0000e+00\n",
      "Epoch 85/100\n",
      "7/7 [==============================] - 0s 3ms/step - loss: 0.2141 - accuracy: 0.0000e+00 - val_loss: 0.5580 - val_accuracy: 0.0000e+00\n",
      "Epoch 86/100\n",
      "7/7 [==============================] - 0s 3ms/step - loss: 0.2122 - accuracy: 0.0000e+00 - val_loss: 0.5574 - val_accuracy: 0.0000e+00\n",
      "Epoch 87/100\n",
      "7/7 [==============================] - 0s 3ms/step - loss: 0.2094 - accuracy: 0.0000e+00 - val_loss: 0.5597 - val_accuracy: 0.0000e+00\n",
      "Epoch 88/100\n",
      "7/7 [==============================] - 0s 3ms/step - loss: 0.2073 - accuracy: 0.0000e+00 - val_loss: 0.5632 - val_accuracy: 0.0000e+00\n",
      "Epoch 89/100\n",
      "7/7 [==============================] - 0s 3ms/step - loss: 0.2047 - accuracy: 0.0000e+00 - val_loss: 0.5643 - val_accuracy: 0.0000e+00\n",
      "Epoch 90/100\n",
      "7/7 [==============================] - 0s 3ms/step - loss: 0.2025 - accuracy: 0.0000e+00 - val_loss: 0.5661 - val_accuracy: 0.0000e+00\n",
      "Epoch 91/100\n",
      "7/7 [==============================] - 0s 3ms/step - loss: 0.2003 - accuracy: 0.0000e+00 - val_loss: 0.5666 - val_accuracy: 0.0000e+00\n",
      "Epoch 92/100\n",
      "7/7 [==============================] - 0s 3ms/step - loss: 0.1979 - accuracy: 0.0000e+00 - val_loss: 0.5677 - val_accuracy: 0.0000e+00\n",
      "Epoch 93/100\n",
      "7/7 [==============================] - 0s 3ms/step - loss: 0.1957 - accuracy: 0.0000e+00 - val_loss: 0.5701 - val_accuracy: 0.0000e+00\n",
      "Epoch 94/100\n",
      "7/7 [==============================] - 0s 3ms/step - loss: 0.1940 - accuracy: 0.0000e+00 - val_loss: 0.5775 - val_accuracy: 0.0000e+00\n",
      "Epoch 95/100\n",
      "7/7 [==============================] - 0s 3ms/step - loss: 0.1912 - accuracy: 0.0000e+00 - val_loss: 0.5787 - val_accuracy: 0.0000e+00\n",
      "Epoch 96/100\n",
      "7/7 [==============================] - 0s 3ms/step - loss: 0.1893 - accuracy: 0.0000e+00 - val_loss: 0.5811 - val_accuracy: 0.0000e+00\n",
      "Epoch 97/100\n",
      "7/7 [==============================] - 0s 3ms/step - loss: 0.1868 - accuracy: 0.0000e+00 - val_loss: 0.5823 - val_accuracy: 0.0000e+00\n",
      "Epoch 98/100\n",
      "7/7 [==============================] - 0s 3ms/step - loss: 0.1853 - accuracy: 0.0000e+00 - val_loss: 0.5860 - val_accuracy: 0.0000e+00\n",
      "Epoch 99/100\n",
      "7/7 [==============================] - 0s 4ms/step - loss: 0.1825 - accuracy: 0.0000e+00 - val_loss: 0.5888 - val_accuracy: 0.0000e+00\n",
      "Epoch 100/100\n",
      "7/7 [==============================] - 0s 3ms/step - loss: 0.1807 - accuracy: 0.0000e+00 - val_loss: 0.5919 - val_accuracy: 0.0000e+00\n"
     ]
    }
   ],
   "source": [
    "his=rnn.fit(X_train, y_train, batch_size = 8, validation_data=(X_test, y_test),epochs = 100)"
   ]
  },
  {
   "cell_type": "code",
   "execution_count": 7,
   "metadata": {},
   "outputs": [],
   "source": [
    "y_pred = rnn.predict(X_test)"
   ]
  },
  {
   "cell_type": "markdown",
   "metadata": {},
   "source": [
    "Посмотрим на графики ошибок обучения и тестирования. Видим, что модель начинает всё сильнее переобучаться после 32 эпох, поэтому построим ещё одну сеть rnn1."
   ]
  },
  {
   "cell_type": "code",
   "execution_count": 8,
   "metadata": {},
   "outputs": [
    {
     "data": {
      "image/png": "[encoded data removed]",
      "text/plain": [
       "<Figure size 432x288 with 1 Axes>"
      ]
     },
     "metadata": {
      "needs_background": "light"
     },
     "output_type": "display_data"
    }
   ],
   "source": [
    "plt.figure()\n",
    "plt.plot(his.history['loss'],'m')\n",
    "plt.plot(his.history['val_loss'],'k')\n",
    "plt.title('model loss')\n",
    "plt.ylabel('loss')\n",
    "plt.xlabel('epoch')\n",
    "plt.legend(['train', 'test'], loc='best')\n",
    "plt.show()"
   ]
  },
  {
   "cell_type": "code",
   "execution_count": 9,
   "metadata": {},
   "outputs": [],
   "source": [
    "rnn1 = Sequential()\n",
    "\n",
    "rnn1.add(Dense(12, activation = 'tanh', input_dim = 11))\n",
    "\n",
    "rnn1.add(Dense(8, activation = 'tanh'))\n",
    "\n",
    "rnn1.add(Dense(1, activation = 'linear'))\n",
    "\n",
    "rnn1.compile(optimizer='adam', loss='mean_squared_error', metrics = ['accuracy'])"
   ]
  },
  {
   "cell_type": "code",
   "execution_count": 10,
   "metadata": {},
   "outputs": [
    {
     "name": "stdout",
     "output_type": "stream",
     "text": [
      "Epoch 1/27\n",
      "7/7 [==============================] - 0s 17ms/step - loss: 1.0868 - accuracy: 0.0000e+00 - val_loss: 0.6867 - val_accuracy: 0.0000e+00\n",
      "Epoch 2/27\n",
      "7/7 [==============================] - 0s 4ms/step - loss: 1.0242 - accuracy: 0.0000e+00 - val_loss: 0.6718 - val_accuracy: 0.0000e+00\n",
      "Epoch 3/27\n",
      "7/7 [==============================] - 0s 4ms/step - loss: 0.9736 - accuracy: 0.0000e+00 - val_loss: 0.6572 - val_accuracy: 0.0000e+00\n",
      "Epoch 4/27\n",
      "7/7 [==============================] - 0s 4ms/step - loss: 0.9333 - accuracy: 0.0000e+00 - val_loss: 0.6448 - val_accuracy: 0.0000e+00\n",
      "Epoch 5/27\n",
      "7/7 [==============================] - 0s 4ms/step - loss: 0.8922 - accuracy: 0.0000e+00 - val_loss: 0.6340 - val_accuracy: 0.0000e+00\n",
      "Epoch 6/27\n",
      "7/7 [==============================] - 0s 4ms/step - loss: 0.8555 - accuracy: 0.0000e+00 - val_loss: 0.6228 - val_accuracy: 0.0000e+00\n",
      "Epoch 7/27\n",
      "7/7 [==============================] - 0s 4ms/step - loss: 0.8262 - accuracy: 0.0000e+00 - val_loss: 0.6144 - val_accuracy: 0.0000e+00\n",
      "Epoch 8/27\n",
      "7/7 [==============================] - 0s 4ms/step - loss: 0.7895 - accuracy: 0.0000e+00 - val_loss: 0.6094 - val_accuracy: 0.0000e+00\n",
      "Epoch 9/27\n",
      "7/7 [==============================] - 0s 3ms/step - loss: 0.7631 - accuracy: 0.0000e+00 - val_loss: 0.6030 - val_accuracy: 0.0000e+00\n",
      "Epoch 10/27\n",
      "7/7 [==============================] - 0s 4ms/step - loss: 0.7385 - accuracy: 0.0000e+00 - val_loss: 0.5957 - val_accuracy: 0.0000e+00\n",
      "Epoch 11/27\n",
      "7/7 [==============================] - 0s 4ms/step - loss: 0.7107 - accuracy: 0.0000e+00 - val_loss: 0.5871 - val_accuracy: 0.0000e+00\n",
      "Epoch 12/27\n",
      "7/7 [==============================] - 0s 4ms/step - loss: 0.6869 - accuracy: 0.0000e+00 - val_loss: 0.5818 - val_accuracy: 0.0000e+00\n",
      "Epoch 13/27\n",
      "7/7 [==============================] - 0s 3ms/step - loss: 0.6635 - accuracy: 0.0000e+00 - val_loss: 0.5757 - val_accuracy: 0.0000e+00\n",
      "Epoch 14/27\n",
      "7/7 [==============================] - 0s 4ms/step - loss: 0.6444 - accuracy: 0.0000e+00 - val_loss: 0.5682 - val_accuracy: 0.0000e+00\n",
      "Epoch 15/27\n",
      "7/7 [==============================] - 0s 3ms/step - loss: 0.6254 - accuracy: 0.0000e+00 - val_loss: 0.5641 - val_accuracy: 0.0000e+00\n",
      "Epoch 16/27\n",
      "7/7 [==============================] - 0s 3ms/step - loss: 0.6066 - accuracy: 0.0000e+00 - val_loss: 0.5533 - val_accuracy: 0.0000e+00\n",
      "Epoch 17/27\n",
      "7/7 [==============================] - 0s 3ms/step - loss: 0.5882 - accuracy: 0.0000e+00 - val_loss: 0.5458 - val_accuracy: 0.0000e+00\n",
      "Epoch 18/27\n",
      "7/7 [==============================] - 0s 3ms/step - loss: 0.5692 - accuracy: 0.0000e+00 - val_loss: 0.5392 - val_accuracy: 0.0000e+00\n",
      "Epoch 19/27\n",
      "7/7 [==============================] - 0s 4ms/step - loss: 0.5561 - accuracy: 0.0000e+00 - val_loss: 0.5310 - val_accuracy: 0.0000e+00\n",
      "Epoch 20/27\n",
      "7/7 [==============================] - 0s 4ms/step - loss: 0.5377 - accuracy: 0.0000e+00 - val_loss: 0.5237 - val_accuracy: 0.0000e+00\n",
      "Epoch 21/27\n",
      "7/7 [==============================] - 0s 4ms/step - loss: 0.5266 - accuracy: 0.0000e+00 - val_loss: 0.5140 - val_accuracy: 0.0000e+00\n",
      "Epoch 22/27\n",
      "7/7 [==============================] - 0s 4ms/step - loss: 0.5099 - accuracy: 0.0000e+00 - val_loss: 0.5077 - val_accuracy: 0.0000e+00\n",
      "Epoch 23/27\n",
      "7/7 [==============================] - 0s 3ms/step - loss: 0.4996 - accuracy: 0.0000e+00 - val_loss: 0.5001 - val_accuracy: 0.0000e+00\n",
      "Epoch 24/27\n",
      "7/7 [==============================] - 0s 4ms/step - loss: 0.4858 - accuracy: 0.0000e+00 - val_loss: 0.4927 - val_accuracy: 0.0000e+00\n",
      "Epoch 25/27\n",
      "7/7 [==============================] - 0s 3ms/step - loss: 0.4758 - accuracy: 0.0000e+00 - val_loss: 0.4833 - val_accuracy: 0.0000e+00\n",
      "Epoch 26/27\n",
      "7/7 [==============================] - 0s 3ms/step - loss: 0.4615 - accuracy: 0.0000e+00 - val_loss: 0.4752 - val_accuracy: 0.0000e+00\n",
      "Epoch 27/27\n",
      "7/7 [==============================] - 0s 5ms/step - loss: 0.4524 - accuracy: 0.0000e+00 - val_loss: 0.4664 - val_accuracy: 0.0000e+00\n"
     ]
    }
   ],
   "source": [
    "his1=rnn1.fit(X_train, y_train, batch_size = 8, validation_data=(X_test, y_test),epochs = 27)"
   ]
  },
  {
   "cell_type": "code",
   "execution_count": 11,
   "metadata": {},
   "outputs": [],
   "source": [
    "y_pred1 = rnn1.predict(X_test)"
   ]
  },
  {
   "cell_type": "code",
   "execution_count": 12,
   "metadata": {},
   "outputs": [
    {
     "data": {
      "image/png": "[encoded data removed]",
      "text/plain": [
       "<Figure size 432x288 with 1 Axes>"
      ]
     },
     "metadata": {
      "needs_background": "light"
     },
     "output_type": "display_data"
    }
   ],
   "source": [
    "plt.figure()\n",
    "plt.plot(his1.history['loss'],'m')\n",
    "plt.plot(his1.history['val_loss'],'k')\n",
    "plt.title('model loss')\n",
    "plt.ylabel('loss')\n",
    "plt.xlabel('epoch')\n",
    "plt.legend(['train', 'test'], loc='best')\n",
    "plt.show()"
   ]
  },
  {
   "cell_type": "markdown",
   "metadata": {},
   "source": [
    "Обратно шкалируем данные."
   ]
  },
  {
   "cell_type": "code",
   "execution_count": 13,
   "metadata": {},
   "outputs": [],
   "source": [
    "y_hat = sc_y.inverse_transform(y_pred)\n",
    "y_hat1 = sc_y.inverse_transform(y_pred1)\n",
    "y_test = sc_y.inverse_transform(y_test)\n",
    "X_test = sc_X.inverse_transform(X_test)"
   ]
  },
  {
   "cell_type": "markdown",
   "metadata": {},
   "source": [
    "Находим среднеквадратические ошибки для двух моделей. Сеть немного переобучена, но во втором случае разрыв между ошибками гораздо меньше."
   ]
  },
  {
   "cell_type": "code",
   "execution_count": 14,
   "metadata": {},
   "outputs": [
    {
     "data": {
      "text/plain": [
       "(833.096, 1516.371)"
      ]
     },
     "execution_count": 14,
     "metadata": {},
     "output_type": "execute_result"
    }
   ],
   "source": [
    "from sklearn.metrics import mean_squared_error\n",
    "mean_squared_error(sc_y.inverse_transform(y_train), sc_y.inverse_transform(rnn.predict(X_train)), squared=False).round(3), mean_squared_error(y_test, y_hat, squared=False).round(3)"
   ]
  },
  {
   "cell_type": "code",
   "execution_count": 15,
   "metadata": {},
   "outputs": [
    {
     "data": {
      "text/plain": [
       "(1311.247, 1345.988)"
      ]
     },
     "execution_count": 15,
     "metadata": {},
     "output_type": "execute_result"
    }
   ],
   "source": [
    "from sklearn.metrics import mean_squared_error\n",
    "mean_squared_error(sc_y.inverse_transform(y_train), sc_y.inverse_transform(rnn1.predict(X_train)), squared=False).round(3), mean_squared_error(y_test, y_hat1, squared=False).round(3)"
   ]
  },
  {
   "cell_type": "markdown",
   "metadata": {},
   "source": [
    "Визуализация результатов второй сети."
   ]
  },
  {
   "cell_type": "code",
   "execution_count": 17,
   "metadata": {},
   "outputs": [
    {
     "data": {
      "image/png": "[encoded data removed]",
      "text/plain": [
       "<Figure size 432x288 with 1 Axes>"
      ]
     },
     "metadata": {
      "needs_background": "light"
     },
     "output_type": "display_data"
    }
   ],
   "source": [
    "plt.scatter(X_test[:,2], y_test, color = 'green')\n",
    "plt.plot(X_test[:,2], y_hat1, 'mo')\n",
    "plt.title('store_checks vs staff (Test set)')\n",
    "plt.xlabel('staff')\n",
    "plt.ylabel('store_checks')\n",
    "plt.show()"
   ]
  },
  {
   "cell_type": "code",
   "execution_count": 55,
   "metadata": {},
   "outputs": [],
   "source": [
    "import pickle\n",
    "input = open('data_reg.pkl', 'rb')\n",
    "obj = pickle.load(input)\n",
    "input.close()\n",
    "X_train = obj[\"X_train\"]\n",
    "X_test = obj[\"X_test\"]\n",
    "y_train = obj[\"y_train\"]\n",
    "y_test = obj[\"y_test\"]\n",
    "\n",
    "y_train = np.asarray(y_train).reshape(-1,1)\n",
    "y_test = np.asarray(y_test).reshape(-1,1)"
   ]
  },
  {
   "cell_type": "markdown",
   "metadata": {},
   "source": [
    "Построим НС только на значимых переменных. Напомню, у нас их 3: staff,average_income_of_customers,coating_quality. Для этого меняем архитектуру сети и в перемнную f записываем только значимые. Я не буду повторно прописывать все комментарии, так как они анлогичны и дейтсвия тоже."
   ]
  },
  {
   "cell_type": "code",
   "execution_count": 56,
   "metadata": {},
   "outputs": [],
   "source": [
    "f = ['staff','average_income_of_customers','coating_quality']\n",
    "X_train = X_train[f]\n",
    "X_test = X_test[f]"
   ]
  },
  {
   "cell_type": "code",
   "execution_count": 57,
   "metadata": {},
   "outputs": [],
   "source": [
    "sc_X = StandardScaler().fit(X_train)\n",
    "X_train = sc_X.transform(X_train)\n",
    "X_test = sc_X.transform(X_test)\n",
    "sc_y = StandardScaler().fit(y_train)\n",
    "y_train = sc_y.transform(y_train)\n",
    "y_test = sc_y.transform(y_test)"
   ]
  },
  {
   "cell_type": "code",
   "execution_count": 58,
   "metadata": {},
   "outputs": [],
   "source": [
    "rnn = Sequential()\n",
    "\n",
    "rnn.add(Dense(4, activation = 'tanh', input_dim = 3))\n",
    "\n",
    "rnn.add(Dense(2, activation = 'tanh'))\n",
    "\n",
    "rnn.add(Dense(1, activation = 'linear'))\n",
    "\n",
    "rnn.compile(optimizer='adam', loss='mean_squared_error', metrics = ['accuracy'])"
   ]
  },
  {
   "cell_type": "code",
   "execution_count": 59,
   "metadata": {},
   "outputs": [
    {
     "name": "stdout",
     "output_type": "stream",
     "text": [
      "Epoch 1/100\n",
      "7/7 [==============================] - 0s 15ms/step - loss: 1.0867 - accuracy: 0.0000e+00 - val_loss: 0.8334 - val_accuracy: 0.0000e+00\n",
      "Epoch 2/100\n",
      "7/7 [==============================] - 0s 3ms/step - loss: 1.0610 - accuracy: 0.0000e+00 - val_loss: 0.8218 - val_accuracy: 0.0000e+00\n",
      "Epoch 3/100\n",
      "7/7 [==============================] - 0s 4ms/step - loss: 1.0362 - accuracy: 0.0000e+00 - val_loss: 0.8097 - val_accuracy: 0.0000e+00\n",
      "Epoch 4/100\n",
      "7/7 [==============================] - 0s 4ms/step - loss: 1.0110 - accuracy: 0.0000e+00 - val_loss: 0.7989 - val_accuracy: 0.0000e+00\n",
      "Epoch 5/100\n",
      "7/7 [==============================] - 0s 3ms/step - loss: 0.9887 - accuracy: 0.0000e+00 - val_loss: 0.7880 - val_accuracy: 0.0000e+00\n",
      "Epoch 6/100\n",
      "7/7 [==============================] - 0s 4ms/step - loss: 0.9629 - accuracy: 0.0000e+00 - val_loss: 0.7775 - val_accuracy: 0.0000e+00\n",
      "Epoch 7/100\n",
      "7/7 [==============================] - 0s 4ms/step - loss: 0.9435 - accuracy: 0.0000e+00 - val_loss: 0.7650 - val_accuracy: 0.0000e+00\n",
      "Epoch 8/100\n",
      "7/7 [==============================] - 0s 4ms/step - loss: 0.9201 - accuracy: 0.0000e+00 - val_loss: 0.7541 - val_accuracy: 0.0000e+00\n",
      "Epoch 9/100\n",
      "7/7 [==============================] - 0s 4ms/step - loss: 0.9012 - accuracy: 0.0000e+00 - val_loss: 0.7438 - val_accuracy: 0.0000e+00\n",
      "Epoch 10/100\n",
      "7/7 [==============================] - 0s 4ms/step - loss: 0.8797 - accuracy: 0.0000e+00 - val_loss: 0.7327 - val_accuracy: 0.0000e+00\n",
      "Epoch 11/100\n",
      "7/7 [==============================] - 0s 4ms/step - loss: 0.8593 - accuracy: 0.0000e+00 - val_loss: 0.7234 - val_accuracy: 0.0000e+00\n",
      "Epoch 12/100\n",
      "7/7 [==============================] - 0s 4ms/step - loss: 0.8438 - accuracy: 0.0000e+00 - val_loss: 0.7128 - val_accuracy: 0.0000e+00\n",
      "Epoch 13/100\n",
      "7/7 [==============================] - 0s 4ms/step - loss: 0.8251 - accuracy: 0.0000e+00 - val_loss: 0.7041 - val_accuracy: 0.0000e+00\n",
      "Epoch 14/100\n",
      "7/7 [==============================] - 0s 4ms/step - loss: 0.8071 - accuracy: 0.0000e+00 - val_loss: 0.6938 - val_accuracy: 0.0000e+00\n",
      "Epoch 15/100\n",
      "7/7 [==============================] - 0s 4ms/step - loss: 0.7910 - accuracy: 0.0000e+00 - val_loss: 0.6841 - val_accuracy: 0.0000e+00\n",
      "Epoch 16/100\n",
      "7/7 [==============================] - 0s 3ms/step - loss: 0.7734 - accuracy: 0.0000e+00 - val_loss: 0.6760 - val_accuracy: 0.0000e+00\n",
      "Epoch 17/100\n",
      "7/7 [==============================] - 0s 4ms/step - loss: 0.7563 - accuracy: 0.0000e+00 - val_loss: 0.6666 - val_accuracy: 0.0000e+00\n",
      "Epoch 18/100\n",
      "7/7 [==============================] - 0s 4ms/step - loss: 0.7412 - accuracy: 0.0000e+00 - val_loss: 0.6581 - val_accuracy: 0.0000e+00\n",
      "Epoch 19/100\n",
      "7/7 [==============================] - 0s 4ms/step - loss: 0.7278 - accuracy: 0.0000e+00 - val_loss: 0.6482 - val_accuracy: 0.0000e+00\n",
      "Epoch 20/100\n",
      "7/7 [==============================] - 0s 4ms/step - loss: 0.7126 - accuracy: 0.0000e+00 - val_loss: 0.6398 - val_accuracy: 0.0000e+00\n",
      "Epoch 21/100\n",
      "7/7 [==============================] - 0s 4ms/step - loss: 0.6979 - accuracy: 0.0000e+00 - val_loss: 0.6318 - val_accuracy: 0.0000e+00\n",
      "Epoch 22/100\n",
      "7/7 [==============================] - 0s 4ms/step - loss: 0.6857 - accuracy: 0.0000e+00 - val_loss: 0.6225 - val_accuracy: 0.0000e+00\n",
      "Epoch 23/100\n",
      "7/7 [==============================] - 0s 4ms/step - loss: 0.6702 - accuracy: 0.0000e+00 - val_loss: 0.6150 - val_accuracy: 0.0000e+00\n",
      "Epoch 24/100\n",
      "7/7 [==============================] - 0s 4ms/step - loss: 0.6584 - accuracy: 0.0000e+00 - val_loss: 0.6080 - val_accuracy: 0.0000e+00\n",
      "Epoch 25/100\n",
      "7/7 [==============================] - 0s 4ms/step - loss: 0.6455 - accuracy: 0.0000e+00 - val_loss: 0.6016 - val_accuracy: 0.0000e+00\n",
      "Epoch 26/100\n",
      "7/7 [==============================] - 0s 4ms/step - loss: 0.6335 - accuracy: 0.0000e+00 - val_loss: 0.5939 - val_accuracy: 0.0000e+00\n",
      "Epoch 27/100\n",
      "7/7 [==============================] - 0s 4ms/step - loss: 0.6227 - accuracy: 0.0000e+00 - val_loss: 0.5862 - val_accuracy: 0.0000e+00\n",
      "Epoch 28/100\n",
      "7/7 [==============================] - 0s 4ms/step - loss: 0.6112 - accuracy: 0.0000e+00 - val_loss: 0.5785 - val_accuracy: 0.0000e+00\n",
      "Epoch 29/100\n",
      "7/7 [==============================] - 0s 4ms/step - loss: 0.6008 - accuracy: 0.0000e+00 - val_loss: 0.5718 - val_accuracy: 0.0000e+00\n",
      "Epoch 30/100\n",
      "7/7 [==============================] - 0s 3ms/step - loss: 0.5905 - accuracy: 0.0000e+00 - val_loss: 0.5655 - val_accuracy: 0.0000e+00\n",
      "Epoch 31/100\n",
      "7/7 [==============================] - 0s 3ms/step - loss: 0.5827 - accuracy: 0.0000e+00 - val_loss: 0.5599 - val_accuracy: 0.0000e+00\n",
      "Epoch 32/100\n",
      "7/7 [==============================] - 0s 3ms/step - loss: 0.5714 - accuracy: 0.0000e+00 - val_loss: 0.5541 - val_accuracy: 0.0000e+00\n",
      "Epoch 33/100\n",
      "7/7 [==============================] - 0s 4ms/step - loss: 0.5623 - accuracy: 0.0000e+00 - val_loss: 0.5485 - val_accuracy: 0.0000e+00\n",
      "Epoch 34/100\n",
      "7/7 [==============================] - 0s 3ms/step - loss: 0.5540 - accuracy: 0.0000e+00 - val_loss: 0.5431 - val_accuracy: 0.0000e+00\n",
      "Epoch 35/100\n",
      "7/7 [==============================] - 0s 4ms/step - loss: 0.5459 - accuracy: 0.0000e+00 - val_loss: 0.5376 - val_accuracy: 0.0000e+00\n",
      "Epoch 36/100\n",
      "7/7 [==============================] - 0s 3ms/step - loss: 0.5374 - accuracy: 0.0000e+00 - val_loss: 0.5318 - val_accuracy: 0.0000e+00\n",
      "Epoch 37/100\n",
      "7/7 [==============================] - 0s 4ms/step - loss: 0.5296 - accuracy: 0.0000e+00 - val_loss: 0.5273 - val_accuracy: 0.0000e+00\n",
      "Epoch 38/100\n",
      "7/7 [==============================] - 0s 3ms/step - loss: 0.5216 - accuracy: 0.0000e+00 - val_loss: 0.5228 - val_accuracy: 0.0000e+00\n",
      "Epoch 39/100\n",
      "7/7 [==============================] - 0s 5ms/step - loss: 0.5143 - accuracy: 0.0000e+00 - val_loss: 0.5176 - val_accuracy: 0.0000e+00\n",
      "Epoch 40/100\n",
      "7/7 [==============================] - 0s 3ms/step - loss: 0.5077 - accuracy: 0.0000e+00 - val_loss: 0.5137 - val_accuracy: 0.0000e+00\n",
      "Epoch 41/100\n",
      "7/7 [==============================] - 0s 4ms/step - loss: 0.5008 - accuracy: 0.0000e+00 - val_loss: 0.5085 - val_accuracy: 0.0000e+00\n",
      "Epoch 42/100\n",
      "7/7 [==============================] - 0s 4ms/step - loss: 0.4929 - accuracy: 0.0000e+00 - val_loss: 0.5046 - val_accuracy: 0.0000e+00\n",
      "Epoch 43/100\n",
      "7/7 [==============================] - 0s 4ms/step - loss: 0.4869 - accuracy: 0.0000e+00 - val_loss: 0.5007 - val_accuracy: 0.0000e+00\n",
      "Epoch 44/100\n",
      "7/7 [==============================] - 0s 3ms/step - loss: 0.4808 - accuracy: 0.0000e+00 - val_loss: 0.4975 - val_accuracy: 0.0000e+00\n",
      "Epoch 45/100\n",
      "7/7 [==============================] - 0s 4ms/step - loss: 0.4752 - accuracy: 0.0000e+00 - val_loss: 0.4948 - val_accuracy: 0.0000e+00\n",
      "Epoch 46/100\n",
      "7/7 [==============================] - 0s 4ms/step - loss: 0.4700 - accuracy: 0.0000e+00 - val_loss: 0.4912 - val_accuracy: 0.0000e+00\n",
      "Epoch 47/100\n",
      "7/7 [==============================] - 0s 4ms/step - loss: 0.4650 - accuracy: 0.0000e+00 - val_loss: 0.4872 - val_accuracy: 0.0000e+00\n",
      "Epoch 48/100\n",
      "7/7 [==============================] - 0s 4ms/step - loss: 0.4594 - accuracy: 0.0000e+00 - val_loss: 0.4835 - val_accuracy: 0.0000e+00\n",
      "Epoch 49/100\n",
      "7/7 [==============================] - 0s 4ms/step - loss: 0.4546 - accuracy: 0.0000e+00 - val_loss: 0.4797 - val_accuracy: 0.0000e+00\n",
      "Epoch 50/100\n",
      "7/7 [==============================] - 0s 4ms/step - loss: 0.4494 - accuracy: 0.0000e+00 - val_loss: 0.4774 - val_accuracy: 0.0000e+00\n",
      "Epoch 51/100\n",
      "7/7 [==============================] - 0s 4ms/step - loss: 0.4451 - accuracy: 0.0000e+00 - val_loss: 0.4745 - val_accuracy: 0.0000e+00\n",
      "Epoch 52/100\n",
      "7/7 [==============================] - 0s 4ms/step - loss: 0.4404 - accuracy: 0.0000e+00 - val_loss: 0.4723 - val_accuracy: 0.0000e+00\n",
      "Epoch 53/100\n",
      "7/7 [==============================] - 0s 4ms/step - loss: 0.4362 - accuracy: 0.0000e+00 - val_loss: 0.4692 - val_accuracy: 0.0000e+00\n",
      "Epoch 54/100\n",
      "7/7 [==============================] - 0s 4ms/step - loss: 0.4323 - accuracy: 0.0000e+00 - val_loss: 0.4661 - val_accuracy: 0.0000e+00\n",
      "Epoch 55/100\n",
      "7/7 [==============================] - 0s 4ms/step - loss: 0.4284 - accuracy: 0.0000e+00 - val_loss: 0.4634 - val_accuracy: 0.0000e+00\n",
      "Epoch 56/100\n"
     ]
    },
    {
     "name": "stdout",
     "output_type": "stream",
     "text": [
      "7/7 [==============================] - 0s 4ms/step - loss: 0.4236 - accuracy: 0.0000e+00 - val_loss: 0.4608 - val_accuracy: 0.0000e+00\n",
      "Epoch 57/100\n",
      "7/7 [==============================] - 0s 3ms/step - loss: 0.4212 - accuracy: 0.0000e+00 - val_loss: 0.4588 - val_accuracy: 0.0000e+00\n",
      "Epoch 58/100\n",
      "7/7 [==============================] - 0s 4ms/step - loss: 0.4169 - accuracy: 0.0000e+00 - val_loss: 0.4557 - val_accuracy: 0.0000e+00\n",
      "Epoch 59/100\n",
      "7/7 [==============================] - 0s 3ms/step - loss: 0.4133 - accuracy: 0.0000e+00 - val_loss: 0.4533 - val_accuracy: 0.0000e+00\n",
      "Epoch 60/100\n",
      "7/7 [==============================] - 0s 3ms/step - loss: 0.4100 - accuracy: 0.0000e+00 - val_loss: 0.4514 - val_accuracy: 0.0000e+00\n",
      "Epoch 61/100\n",
      "7/7 [==============================] - 0s 3ms/step - loss: 0.4063 - accuracy: 0.0000e+00 - val_loss: 0.4499 - val_accuracy: 0.0000e+00\n",
      "Epoch 62/100\n",
      "7/7 [==============================] - 0s 3ms/step - loss: 0.4034 - accuracy: 0.0000e+00 - val_loss: 0.4484 - val_accuracy: 0.0000e+00\n",
      "Epoch 63/100\n",
      "7/7 [==============================] - 0s 3ms/step - loss: 0.4006 - accuracy: 0.0000e+00 - val_loss: 0.4460 - val_accuracy: 0.0000e+00\n",
      "Epoch 64/100\n",
      "7/7 [==============================] - 0s 3ms/step - loss: 0.3972 - accuracy: 0.0000e+00 - val_loss: 0.4440 - val_accuracy: 0.0000e+00\n",
      "Epoch 65/100\n",
      "7/7 [==============================] - 0s 3ms/step - loss: 0.3949 - accuracy: 0.0000e+00 - val_loss: 0.4434 - val_accuracy: 0.0000e+00\n",
      "Epoch 66/100\n",
      "7/7 [==============================] - 0s 3ms/step - loss: 0.3920 - accuracy: 0.0000e+00 - val_loss: 0.4418 - val_accuracy: 0.0000e+00\n",
      "Epoch 67/100\n",
      "7/7 [==============================] - 0s 3ms/step - loss: 0.3892 - accuracy: 0.0000e+00 - val_loss: 0.4405 - val_accuracy: 0.0000e+00\n",
      "Epoch 68/100\n",
      "7/7 [==============================] - 0s 3ms/step - loss: 0.3868 - accuracy: 0.0000e+00 - val_loss: 0.4393 - val_accuracy: 0.0000e+00\n",
      "Epoch 69/100\n",
      "7/7 [==============================] - 0s 3ms/step - loss: 0.3845 - accuracy: 0.0000e+00 - val_loss: 0.4381 - val_accuracy: 0.0000e+00\n",
      "Epoch 70/100\n",
      "7/7 [==============================] - 0s 3ms/step - loss: 0.3827 - accuracy: 0.0000e+00 - val_loss: 0.4369 - val_accuracy: 0.0000e+00\n",
      "Epoch 71/100\n",
      "7/7 [==============================] - 0s 3ms/step - loss: 0.3803 - accuracy: 0.0000e+00 - val_loss: 0.4359 - val_accuracy: 0.0000e+00\n",
      "Epoch 72/100\n",
      "7/7 [==============================] - 0s 3ms/step - loss: 0.3780 - accuracy: 0.0000e+00 - val_loss: 0.4358 - val_accuracy: 0.0000e+00\n",
      "Epoch 73/100\n",
      "7/7 [==============================] - 0s 3ms/step - loss: 0.3766 - accuracy: 0.0000e+00 - val_loss: 0.4353 - val_accuracy: 0.0000e+00\n",
      "Epoch 74/100\n",
      "7/7 [==============================] - 0s 3ms/step - loss: 0.3738 - accuracy: 0.0000e+00 - val_loss: 0.4345 - val_accuracy: 0.0000e+00\n",
      "Epoch 75/100\n",
      "7/7 [==============================] - 0s 4ms/step - loss: 0.3720 - accuracy: 0.0000e+00 - val_loss: 0.4339 - val_accuracy: 0.0000e+00\n",
      "Epoch 76/100\n",
      "7/7 [==============================] - 0s 3ms/step - loss: 0.3701 - accuracy: 0.0000e+00 - val_loss: 0.4337 - val_accuracy: 0.0000e+00\n",
      "Epoch 77/100\n",
      "7/7 [==============================] - 0s 3ms/step - loss: 0.3684 - accuracy: 0.0000e+00 - val_loss: 0.4341 - val_accuracy: 0.0000e+00\n",
      "Epoch 78/100\n",
      "7/7 [==============================] - 0s 3ms/step - loss: 0.3672 - accuracy: 0.0000e+00 - val_loss: 0.4334 - val_accuracy: 0.0000e+00\n",
      "Epoch 79/100\n",
      "7/7 [==============================] - 0s 3ms/step - loss: 0.3651 - accuracy: 0.0000e+00 - val_loss: 0.4337 - val_accuracy: 0.0000e+00\n",
      "Epoch 80/100\n",
      "7/7 [==============================] - 0s 3ms/step - loss: 0.3632 - accuracy: 0.0000e+00 - val_loss: 0.4329 - val_accuracy: 0.0000e+00\n",
      "Epoch 81/100\n",
      "7/7 [==============================] - 0s 3ms/step - loss: 0.3615 - accuracy: 0.0000e+00 - val_loss: 0.4331 - val_accuracy: 0.0000e+00\n",
      "Epoch 82/100\n",
      "7/7 [==============================] - 0s 4ms/step - loss: 0.3596 - accuracy: 0.0000e+00 - val_loss: 0.4332 - val_accuracy: 0.0000e+00\n",
      "Epoch 83/100\n",
      "7/7 [==============================] - 0s 3ms/step - loss: 0.3581 - accuracy: 0.0000e+00 - val_loss: 0.4335 - val_accuracy: 0.0000e+00\n",
      "Epoch 84/100\n",
      "7/7 [==============================] - 0s 3ms/step - loss: 0.3570 - accuracy: 0.0000e+00 - val_loss: 0.4331 - val_accuracy: 0.0000e+00\n",
      "Epoch 85/100\n",
      "7/7 [==============================] - 0s 3ms/step - loss: 0.3556 - accuracy: 0.0000e+00 - val_loss: 0.4329 - val_accuracy: 0.0000e+00\n",
      "Epoch 86/100\n",
      "7/7 [==============================] - 0s 3ms/step - loss: 0.3537 - accuracy: 0.0000e+00 - val_loss: 0.4326 - val_accuracy: 0.0000e+00\n",
      "Epoch 87/100\n",
      "7/7 [==============================] - 0s 3ms/step - loss: 0.3526 - accuracy: 0.0000e+00 - val_loss: 0.4325 - val_accuracy: 0.0000e+00\n",
      "Epoch 88/100\n",
      "7/7 [==============================] - 0s 3ms/step - loss: 0.3516 - accuracy: 0.0000e+00 - val_loss: 0.4330 - val_accuracy: 0.0000e+00\n",
      "Epoch 89/100\n",
      "7/7 [==============================] - 0s 3ms/step - loss: 0.3498 - accuracy: 0.0000e+00 - val_loss: 0.4329 - val_accuracy: 0.0000e+00\n",
      "Epoch 90/100\n",
      "7/7 [==============================] - 0s 3ms/step - loss: 0.3487 - accuracy: 0.0000e+00 - val_loss: 0.4331 - val_accuracy: 0.0000e+00\n",
      "Epoch 91/100\n",
      "7/7 [==============================] - 0s 3ms/step - loss: 0.3475 - accuracy: 0.0000e+00 - val_loss: 0.4331 - val_accuracy: 0.0000e+00\n",
      "Epoch 92/100\n",
      "7/7 [==============================] - 0s 3ms/step - loss: 0.3462 - accuracy: 0.0000e+00 - val_loss: 0.4337 - val_accuracy: 0.0000e+00\n",
      "Epoch 93/100\n",
      "7/7 [==============================] - 0s 3ms/step - loss: 0.3450 - accuracy: 0.0000e+00 - val_loss: 0.4337 - val_accuracy: 0.0000e+00\n",
      "Epoch 94/100\n",
      "7/7 [==============================] - 0s 3ms/step - loss: 0.3439 - accuracy: 0.0000e+00 - val_loss: 0.4340 - val_accuracy: 0.0000e+00\n",
      "Epoch 95/100\n",
      "7/7 [==============================] - 0s 3ms/step - loss: 0.3425 - accuracy: 0.0000e+00 - val_loss: 0.4344 - val_accuracy: 0.0000e+00\n",
      "Epoch 96/100\n",
      "7/7 [==============================] - 0s 4ms/step - loss: 0.3419 - accuracy: 0.0000e+00 - val_loss: 0.4346 - val_accuracy: 0.0000e+00\n",
      "Epoch 97/100\n",
      "7/7 [==============================] - 0s 3ms/step - loss: 0.3403 - accuracy: 0.0000e+00 - val_loss: 0.4343 - val_accuracy: 0.0000e+00\n",
      "Epoch 98/100\n",
      "7/7 [==============================] - 0s 3ms/step - loss: 0.3392 - accuracy: 0.0000e+00 - val_loss: 0.4346 - val_accuracy: 0.0000e+00\n",
      "Epoch 99/100\n",
      "7/7 [==============================] - 0s 3ms/step - loss: 0.3386 - accuracy: 0.0000e+00 - val_loss: 0.4351 - val_accuracy: 0.0000e+00\n",
      "Epoch 100/100\n",
      "7/7 [==============================] - 0s 3ms/step - loss: 0.3374 - accuracy: 0.0000e+00 - val_loss: 0.4368 - val_accuracy: 0.0000e+00\n"
     ]
    }
   ],
   "source": [
    "his=rnn.fit(X_train, y_train, batch_size = 8, validation_data=(X_test, y_test),epochs = 100)"
   ]
  },
  {
   "cell_type": "code",
   "execution_count": 60,
   "metadata": {},
   "outputs": [],
   "source": [
    "y_pred = rnn.predict(X_test)"
   ]
  },
  {
   "cell_type": "code",
   "execution_count": 61,
   "metadata": {},
   "outputs": [
    {
     "data": {
      "image/png": "[encoded data removed]",
      "text/plain": [
       "<Figure size 432x288 with 1 Axes>"
      ]
     },
     "metadata": {
      "needs_background": "light"
     },
     "output_type": "display_data"
    }
   ],
   "source": [
    "plt.figure()\n",
    "plt.plot(his.history['loss'],'m')\n",
    "plt.plot(his.history['val_loss'],'k')\n",
    "plt.title('model loss')\n",
    "plt.ylabel('loss')\n",
    "plt.xlabel('epoch')\n",
    "plt.legend(['train', 'test'], loc='best')\n",
    "plt.show()"
   ]
  },
  {
   "cell_type": "code",
   "execution_count": 62,
   "metadata": {},
   "outputs": [],
   "source": [
    "rnn1 = Sequential()\n",
    "\n",
    "rnn1.add(Dense(4, activation = 'tanh', input_dim = 3))\n",
    "\n",
    "rnn1.add(Dense(2, activation = 'tanh'))\n",
    "\n",
    "rnn1.add(Dense(1, activation = 'linear'))\n",
    "\n",
    "rnn1.compile(optimizer='adam', loss='mean_squared_error', metrics = ['accuracy'])"
   ]
  },
  {
   "cell_type": "code",
   "execution_count": 63,
   "metadata": {},
   "outputs": [
    {
     "name": "stdout",
     "output_type": "stream",
     "text": [
      "Epoch 1/35\n",
      "7/7 [==============================] - 0s 14ms/step - loss: 0.8761 - accuracy: 0.0000e+00 - val_loss: 0.6353 - val_accuracy: 0.0000e+00\n",
      "Epoch 2/35\n",
      "7/7 [==============================] - 0s 5ms/step - loss: 0.8546 - accuracy: 0.0000e+00 - val_loss: 0.6280 - val_accuracy: 0.0000e+00\n",
      "Epoch 3/35\n",
      "7/7 [==============================] - 0s 4ms/step - loss: 0.8351 - accuracy: 0.0000e+00 - val_loss: 0.6212 - val_accuracy: 0.0000e+00\n",
      "Epoch 4/35\n",
      "7/7 [==============================] - 0s 4ms/step - loss: 0.8185 - accuracy: 0.0000e+00 - val_loss: 0.6148 - val_accuracy: 0.0000e+00\n",
      "Epoch 5/35\n",
      "7/7 [==============================] - 0s 4ms/step - loss: 0.8000 - accuracy: 0.0000e+00 - val_loss: 0.6088 - val_accuracy: 0.0000e+00\n",
      "Epoch 6/35\n",
      "7/7 [==============================] - 0s 4ms/step - loss: 0.7850 - accuracy: 0.0000e+00 - val_loss: 0.6024 - val_accuracy: 0.0000e+00\n",
      "Epoch 7/35\n",
      "7/7 [==============================] - 0s 4ms/step - loss: 0.7656 - accuracy: 0.0000e+00 - val_loss: 0.5972 - val_accuracy: 0.0000e+00\n",
      "Epoch 8/35\n",
      "7/7 [==============================] - 0s 4ms/step - loss: 0.7497 - accuracy: 0.0000e+00 - val_loss: 0.5919 - val_accuracy: 0.0000e+00\n",
      "Epoch 9/35\n",
      "7/7 [==============================] - 0s 4ms/step - loss: 0.7351 - accuracy: 0.0000e+00 - val_loss: 0.5858 - val_accuracy: 0.0000e+00\n",
      "Epoch 10/35\n",
      "7/7 [==============================] - 0s 4ms/step - loss: 0.7179 - accuracy: 0.0000e+00 - val_loss: 0.5793 - val_accuracy: 0.0000e+00\n",
      "Epoch 11/35\n",
      "7/7 [==============================] - 0s 4ms/step - loss: 0.7024 - accuracy: 0.0000e+00 - val_loss: 0.5735 - val_accuracy: 0.0000e+00\n",
      "Epoch 12/35\n",
      "7/7 [==============================] - 0s 4ms/step - loss: 0.6883 - accuracy: 0.0000e+00 - val_loss: 0.5670 - val_accuracy: 0.0000e+00\n",
      "Epoch 13/35\n",
      "7/7 [==============================] - 0s 4ms/step - loss: 0.6707 - accuracy: 0.0000e+00 - val_loss: 0.5614 - val_accuracy: 0.0000e+00\n",
      "Epoch 14/35\n",
      "7/7 [==============================] - 0s 4ms/step - loss: 0.6563 - accuracy: 0.0000e+00 - val_loss: 0.5560 - val_accuracy: 0.0000e+00\n",
      "Epoch 15/35\n",
      "7/7 [==============================] - 0s 4ms/step - loss: 0.6425 - accuracy: 0.0000e+00 - val_loss: 0.5499 - val_accuracy: 0.0000e+00\n",
      "Epoch 16/35\n",
      "7/7 [==============================] - 0s 4ms/step - loss: 0.6271 - accuracy: 0.0000e+00 - val_loss: 0.5450 - val_accuracy: 0.0000e+00\n",
      "Epoch 17/35\n",
      "7/7 [==============================] - 0s 4ms/step - loss: 0.6134 - accuracy: 0.0000e+00 - val_loss: 0.5402 - val_accuracy: 0.0000e+00\n",
      "Epoch 18/35\n",
      "7/7 [==============================] - 0s 4ms/step - loss: 0.6011 - accuracy: 0.0000e+00 - val_loss: 0.5346 - val_accuracy: 0.0000e+00\n",
      "Epoch 19/35\n",
      "7/7 [==============================] - 0s 4ms/step - loss: 0.5882 - accuracy: 0.0000e+00 - val_loss: 0.5291 - val_accuracy: 0.0000e+00\n",
      "Epoch 20/35\n",
      "7/7 [==============================] - 0s 4ms/step - loss: 0.5755 - accuracy: 0.0000e+00 - val_loss: 0.5246 - val_accuracy: 0.0000e+00\n",
      "Epoch 21/35\n",
      "7/7 [==============================] - 0s 3ms/step - loss: 0.5641 - accuracy: 0.0000e+00 - val_loss: 0.5192 - val_accuracy: 0.0000e+00\n",
      "Epoch 22/35\n",
      "7/7 [==============================] - 0s 4ms/step - loss: 0.5519 - accuracy: 0.0000e+00 - val_loss: 0.5158 - val_accuracy: 0.0000e+00\n",
      "Epoch 23/35\n",
      "7/7 [==============================] - 0s 3ms/step - loss: 0.5421 - accuracy: 0.0000e+00 - val_loss: 0.5100 - val_accuracy: 0.0000e+00\n",
      "Epoch 24/35\n",
      "7/7 [==============================] - 0s 3ms/step - loss: 0.5314 - accuracy: 0.0000e+00 - val_loss: 0.5059 - val_accuracy: 0.0000e+00\n",
      "Epoch 25/35\n",
      "7/7 [==============================] - 0s 5ms/step - loss: 0.5211 - accuracy: 0.0000e+00 - val_loss: 0.5026 - val_accuracy: 0.0000e+00\n",
      "Epoch 26/35\n",
      "7/7 [==============================] - 0s 5ms/step - loss: 0.5125 - accuracy: 0.0000e+00 - val_loss: 0.5000 - val_accuracy: 0.0000e+00\n",
      "Epoch 27/35\n",
      "7/7 [==============================] - 0s 4ms/step - loss: 0.5044 - accuracy: 0.0000e+00 - val_loss: 0.4969 - val_accuracy: 0.0000e+00\n",
      "Epoch 28/35\n",
      "7/7 [==============================] - 0s 4ms/step - loss: 0.4961 - accuracy: 0.0000e+00 - val_loss: 0.4936 - val_accuracy: 0.0000e+00\n",
      "Epoch 29/35\n",
      "7/7 [==============================] - 0s 4ms/step - loss: 0.4882 - accuracy: 0.0000e+00 - val_loss: 0.4915 - val_accuracy: 0.0000e+00\n",
      "Epoch 30/35\n",
      "7/7 [==============================] - 0s 4ms/step - loss: 0.4806 - accuracy: 0.0000e+00 - val_loss: 0.4888 - val_accuracy: 0.0000e+00\n",
      "Epoch 31/35\n",
      "7/7 [==============================] - 0s 3ms/step - loss: 0.4751 - accuracy: 0.0000e+00 - val_loss: 0.4867 - val_accuracy: 0.0000e+00\n",
      "Epoch 32/35\n",
      "7/7 [==============================] - 0s 4ms/step - loss: 0.4687 - accuracy: 0.0000e+00 - val_loss: 0.4841 - val_accuracy: 0.0000e+00\n",
      "Epoch 33/35\n",
      "7/7 [==============================] - 0s 4ms/step - loss: 0.4616 - accuracy: 0.0000e+00 - val_loss: 0.4830 - val_accuracy: 0.0000e+00\n",
      "Epoch 34/35\n",
      "7/7 [==============================] - 0s 4ms/step - loss: 0.4573 - accuracy: 0.0000e+00 - val_loss: 0.4833 - val_accuracy: 0.0000e+00\n",
      "Epoch 35/35\n",
      "7/7 [==============================] - 0s 4ms/step - loss: 0.4513 - accuracy: 0.0000e+00 - val_loss: 0.4815 - val_accuracy: 0.0000e+00\n"
     ]
    }
   ],
   "source": [
    "his1=rnn1.fit(X_train, y_train, batch_size = 8, validation_data=(X_test, y_test),epochs = 35)"
   ]
  },
  {
   "cell_type": "code",
   "execution_count": 64,
   "metadata": {},
   "outputs": [],
   "source": [
    "y_pred1 = rnn1.predict(X_test)"
   ]
  },
  {
   "cell_type": "code",
   "execution_count": 65,
   "metadata": {},
   "outputs": [
    {
     "data": {
      "image/png": "[encoded data removed]",
      "text/plain": [
       "<Figure size 432x288 with 1 Axes>"
      ]
     },
     "metadata": {
      "needs_background": "light"
     },
     "output_type": "display_data"
    }
   ],
   "source": [
    "plt.figure()\n",
    "plt.plot(his1.history['loss'],'m')\n",
    "plt.plot(his1.history['val_loss'],'k')\n",
    "plt.title('model loss')\n",
    "plt.ylabel('loss')\n",
    "plt.xlabel('epoch')\n",
    "plt.legend(['train', 'test'], loc='best')\n",
    "plt.show()"
   ]
  },
  {
   "cell_type": "code",
   "execution_count": 66,
   "metadata": {},
   "outputs": [],
   "source": [
    "y_hat = sc_y.inverse_transform(y_pred)\n",
    "y_hat1 = sc_y.inverse_transform(y_pred1)\n",
    "y_test = sc_y.inverse_transform(y_test)\n",
    "X_test = sc_X.inverse_transform(X_test)"
   ]
  },
  {
   "cell_type": "code",
   "execution_count": 67,
   "metadata": {},
   "outputs": [
    {
     "data": {
      "text/plain": [
       "(1142.757, 1302.669)"
      ]
     },
     "execution_count": 67,
     "metadata": {},
     "output_type": "execute_result"
    }
   ],
   "source": [
    "from sklearn.metrics import mean_squared_error\n",
    "mean_squared_error(sc_y.inverse_transform(y_train), sc_y.inverse_transform(rnn.predict(X_train)), squared=False).round(3), mean_squared_error(y_test, y_hat, squared=False).round(3)"
   ]
  },
  {
   "cell_type": "code",
   "execution_count": 68,
   "metadata": {},
   "outputs": [
    {
     "data": {
      "text/plain": [
       "(1319.076, 1367.717)"
      ]
     },
     "execution_count": 68,
     "metadata": {},
     "output_type": "execute_result"
    }
   ],
   "source": [
    "from sklearn.metrics import mean_squared_error\n",
    "mean_squared_error(sc_y.inverse_transform(y_train), sc_y.inverse_transform(rnn1.predict(X_train)), squared=False).round(3), mean_squared_error(y_test, y_hat1, squared=False).round(3)"
   ]
  },
  {
   "cell_type": "code",
   "execution_count": 69,
   "metadata": {},
   "outputs": [
    {
     "data": {
      "image/png": "[encoded data removed]",
      "text/plain": [
       "<Figure size 432x288 with 1 Axes>"
      ]
     },
     "metadata": {
      "needs_background": "light"
     },
     "output_type": "display_data"
    }
   ],
   "source": [
    "plt.scatter(X_test[:,0], y_test, color = 'green')\n",
    "plt.plot(X_test[:,0], y_hat1, 'mo')\n",
    "plt.title('store_checks vs staff (Test set)')\n",
    "plt.xlabel('staff')\n",
    "plt.ylabel('store_checks')\n",
    "plt.show()"
   ]
  },
  {
   "cell_type": "markdown",
   "metadata": {},
   "source": [
    "## ВЫВОД: первоначально мы выбрали, что хотим определить влияние известных параметров на количество чеков в магазинах. Обработав данные, мы приступили к построению линеной регрессии. Выяснили, что простая линейная регрессия слишком примитивная для нашего исследования, так как она немного переобучена, недостаточно хорошо объясняет наши данные (57%) и вряд ли на количество чеков влияет только количество сотрудников в магазине. Неидеальность этой модели подтвердила и визуализация. Полиномиальная модель слишком переобучилась, хотя и показала почти 100%-ый коэффициент детерминации, поэтому мы тоже не можем её использовать. Сразу перескочу к нейронным сетям. Это интересное исследование. Я провела огромное количество экспериментов и выявила, что да, можно использовать НС для нашей работы, но ошибки там достаточно велики, а также мне показалось, что это сложноватый метод для нашего датасета. Пришлось значительно снизить количество эпох. При построении НС только на значимых факторах сиуация не улучшилась, по сути получили такие же результаты. Самая лучшая модель получилась с использованием многофакторной линейной регрессии, где коээфициент детерминации 60%, модель не переобучена. То есть исходя из результатов, делаем вывод, что на количество чеков в магазине наиболее влияют количество сотрудников, средний доход покупателей и качество покрытия дороги у магазина!"
   ]
  }
 ],
 "metadata": {
  "kernelspec": {
   "display_name": "Python 3",
   "language": "python",
   "name": "python3"
  },
  "language_info": {
   "codemirror_mode": {
    "name": "ipython",
    "version": 3
   },
   "file_extension": ".py",
   "mimetype": "text/x-python",
   "name": "python",
   "nbconvert_exporter": "python",
   "pygments_lexer": "ipython3",
   "version": "3.8.5"
  }
 },
 "nbformat": 4,
 "nbformat_minor": 4
}
