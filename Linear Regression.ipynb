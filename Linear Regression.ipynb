{
 "cells": [
  {
   "cell_type": "markdown",
   "metadata": {},
   "source": [
    "## Импорт датасета"
   ]
  },
  {
   "cell_type": "markdown",
   "metadata": {},
   "source": [
    "Импортируем указанные библиотеки под сокращенным именем для удобства."
   ]
  },
  {
   "cell_type": "code",
   "execution_count": 1,
   "metadata": {},
   "outputs": [],
   "source": [
    "import numpy as np\n",
    "import matplotlib.pyplot as plt\n",
    "import pandas as pd"
   ]
  },
  {
   "cell_type": "markdown",
   "metadata": {},
   "source": [
    "Загружаем наш подготовленный датасет."
   ]
  },
  {
   "cell_type": "code",
   "execution_count": 2,
   "metadata": {},
   "outputs": [
    {
     "data": {
      "text/html": [
       "<div>\n",
       "<style scoped>\n",
       "    .dataframe tbody tr th:only-of-type {\n",
       "        vertical-align: middle;\n",
       "    }\n",
       "\n",
       "    .dataframe tbody tr th {\n",
       "        vertical-align: top;\n",
       "    }\n",
       "\n",
       "    .dataframe thead th {\n",
       "        text-align: right;\n",
       "    }\n",
       "</style>\n",
       "<table border=\"1\" class=\"dataframe\">\n",
       "  <thead>\n",
       "    <tr style=\"text-align: right;\">\n",
       "      <th></th>\n",
       "      <th>square</th>\n",
       "      <th>type</th>\n",
       "      <th>staff</th>\n",
       "      <th>reviews</th>\n",
       "      <th>cars_per_day</th>\n",
       "      <th>average_income_of_customers</th>\n",
       "      <th>road</th>\n",
       "      <th>place_for_walk</th>\n",
       "      <th>coating_quality</th>\n",
       "      <th>spontaneous_trade</th>\n",
       "      <th>place_for_picnic</th>\n",
       "      <th>store_checks</th>\n",
       "    </tr>\n",
       "  </thead>\n",
       "  <tbody>\n",
       "    <tr>\n",
       "      <th>0</th>\n",
       "      <td>9.00</td>\n",
       "      <td>1</td>\n",
       "      <td>2.0</td>\n",
       "      <td>42.820513</td>\n",
       "      <td>12679.0</td>\n",
       "      <td>14910.0</td>\n",
       "      <td>0.0</td>\n",
       "      <td>0.0</td>\n",
       "      <td>0.0</td>\n",
       "      <td>0.0</td>\n",
       "      <td>0.0</td>\n",
       "      <td>571.0</td>\n",
       "    </tr>\n",
       "    <tr>\n",
       "      <th>1</th>\n",
       "      <td>30.00</td>\n",
       "      <td>1</td>\n",
       "      <td>2.0</td>\n",
       "      <td>8.000000</td>\n",
       "      <td>12800.0</td>\n",
       "      <td>9030.0</td>\n",
       "      <td>0.0</td>\n",
       "      <td>0.0</td>\n",
       "      <td>0.0</td>\n",
       "      <td>0.0</td>\n",
       "      <td>0.0</td>\n",
       "      <td>1197.0</td>\n",
       "    </tr>\n",
       "    <tr>\n",
       "      <th>2</th>\n",
       "      <td>15.00</td>\n",
       "      <td>1</td>\n",
       "      <td>2.0</td>\n",
       "      <td>42.820513</td>\n",
       "      <td>77106.0</td>\n",
       "      <td>9030.0</td>\n",
       "      <td>0.0</td>\n",
       "      <td>0.0</td>\n",
       "      <td>0.0</td>\n",
       "      <td>0.0</td>\n",
       "      <td>0.0</td>\n",
       "      <td>402.0</td>\n",
       "    </tr>\n",
       "    <tr>\n",
       "      <th>3</th>\n",
       "      <td>20.00</td>\n",
       "      <td>1</td>\n",
       "      <td>2.0</td>\n",
       "      <td>42.820513</td>\n",
       "      <td>0.0</td>\n",
       "      <td>13930.0</td>\n",
       "      <td>0.0</td>\n",
       "      <td>0.0</td>\n",
       "      <td>0.0</td>\n",
       "      <td>0.0</td>\n",
       "      <td>0.0</td>\n",
       "      <td>1036.0</td>\n",
       "    </tr>\n",
       "    <tr>\n",
       "      <th>4</th>\n",
       "      <td>30.00</td>\n",
       "      <td>0</td>\n",
       "      <td>2.0</td>\n",
       "      <td>42.820513</td>\n",
       "      <td>0.0</td>\n",
       "      <td>14560.0</td>\n",
       "      <td>0.0</td>\n",
       "      <td>0.0</td>\n",
       "      <td>0.0</td>\n",
       "      <td>0.0</td>\n",
       "      <td>0.0</td>\n",
       "      <td>513.0</td>\n",
       "    </tr>\n",
       "    <tr>\n",
       "      <th>...</th>\n",
       "      <td>...</td>\n",
       "      <td>...</td>\n",
       "      <td>...</td>\n",
       "      <td>...</td>\n",
       "      <td>...</td>\n",
       "      <td>...</td>\n",
       "      <td>...</td>\n",
       "      <td>...</td>\n",
       "      <td>...</td>\n",
       "      <td>...</td>\n",
       "      <td>...</td>\n",
       "      <td>...</td>\n",
       "    </tr>\n",
       "    <tr>\n",
       "      <th>62</th>\n",
       "      <td>51.77</td>\n",
       "      <td>1</td>\n",
       "      <td>6.0</td>\n",
       "      <td>4.000000</td>\n",
       "      <td>146.0</td>\n",
       "      <td>9800.0</td>\n",
       "      <td>1.0</td>\n",
       "      <td>0.0</td>\n",
       "      <td>0.0</td>\n",
       "      <td>0.0</td>\n",
       "      <td>0.0</td>\n",
       "      <td>6669.0</td>\n",
       "    </tr>\n",
       "    <tr>\n",
       "      <th>63</th>\n",
       "      <td>27.26</td>\n",
       "      <td>1</td>\n",
       "      <td>4.0</td>\n",
       "      <td>3.000000</td>\n",
       "      <td>6661.0</td>\n",
       "      <td>12600.0</td>\n",
       "      <td>0.0</td>\n",
       "      <td>0.0</td>\n",
       "      <td>0.0</td>\n",
       "      <td>0.0</td>\n",
       "      <td>0.0</td>\n",
       "      <td>2877.0</td>\n",
       "    </tr>\n",
       "    <tr>\n",
       "      <th>64</th>\n",
       "      <td>148.91</td>\n",
       "      <td>1</td>\n",
       "      <td>2.0</td>\n",
       "      <td>12.000000</td>\n",
       "      <td>9500.0</td>\n",
       "      <td>10570.0</td>\n",
       "      <td>0.0</td>\n",
       "      <td>1.0</td>\n",
       "      <td>0.0</td>\n",
       "      <td>0.0</td>\n",
       "      <td>0.0</td>\n",
       "      <td>2146.0</td>\n",
       "    </tr>\n",
       "    <tr>\n",
       "      <th>65</th>\n",
       "      <td>50.93</td>\n",
       "      <td>0</td>\n",
       "      <td>3.0</td>\n",
       "      <td>17.000000</td>\n",
       "      <td>0.0</td>\n",
       "      <td>12460.0</td>\n",
       "      <td>0.0</td>\n",
       "      <td>0.0</td>\n",
       "      <td>0.0</td>\n",
       "      <td>0.0</td>\n",
       "      <td>0.0</td>\n",
       "      <td>413.0</td>\n",
       "    </tr>\n",
       "    <tr>\n",
       "      <th>66</th>\n",
       "      <td>30.00</td>\n",
       "      <td>1</td>\n",
       "      <td>3.0</td>\n",
       "      <td>12.000000</td>\n",
       "      <td>0.0</td>\n",
       "      <td>10430.0</td>\n",
       "      <td>1.0</td>\n",
       "      <td>0.0</td>\n",
       "      <td>0.0</td>\n",
       "      <td>0.0</td>\n",
       "      <td>0.0</td>\n",
       "      <td>3156.0</td>\n",
       "    </tr>\n",
       "  </tbody>\n",
       "</table>\n",
       "<p>67 rows × 12 columns</p>\n",
       "</div>"
      ],
      "text/plain": [
       "    square  type  staff    reviews  cars_per_day  average_income_of_customers  \\\n",
       "0     9.00     1    2.0  42.820513       12679.0                      14910.0   \n",
       "1    30.00     1    2.0   8.000000       12800.0                       9030.0   \n",
       "2    15.00     1    2.0  42.820513       77106.0                       9030.0   \n",
       "3    20.00     1    2.0  42.820513           0.0                      13930.0   \n",
       "4    30.00     0    2.0  42.820513           0.0                      14560.0   \n",
       "..     ...   ...    ...        ...           ...                          ...   \n",
       "62   51.77     1    6.0   4.000000         146.0                       9800.0   \n",
       "63   27.26     1    4.0   3.000000        6661.0                      12600.0   \n",
       "64  148.91     1    2.0  12.000000        9500.0                      10570.0   \n",
       "65   50.93     0    3.0  17.000000           0.0                      12460.0   \n",
       "66   30.00     1    3.0  12.000000           0.0                      10430.0   \n",
       "\n",
       "    road  place_for_walk  coating_quality  spontaneous_trade  \\\n",
       "0    0.0             0.0              0.0                0.0   \n",
       "1    0.0             0.0              0.0                0.0   \n",
       "2    0.0             0.0              0.0                0.0   \n",
       "3    0.0             0.0              0.0                0.0   \n",
       "4    0.0             0.0              0.0                0.0   \n",
       "..   ...             ...              ...                ...   \n",
       "62   1.0             0.0              0.0                0.0   \n",
       "63   0.0             0.0              0.0                0.0   \n",
       "64   0.0             1.0              0.0                0.0   \n",
       "65   0.0             0.0              0.0                0.0   \n",
       "66   1.0             0.0              0.0                0.0   \n",
       "\n",
       "    place_for_picnic  store_checks  \n",
       "0                0.0         571.0  \n",
       "1                0.0        1197.0  \n",
       "2                0.0         402.0  \n",
       "3                0.0        1036.0  \n",
       "4                0.0         513.0  \n",
       "..               ...           ...  \n",
       "62               0.0        6669.0  \n",
       "63               0.0        2877.0  \n",
       "64               0.0        2146.0  \n",
       "65               0.0         413.0  \n",
       "66               0.0        3156.0  \n",
       "\n",
       "[67 rows x 12 columns]"
      ]
     },
     "execution_count": 2,
     "metadata": {},
     "output_type": "execute_result"
    }
   ],
   "source": [
    "df = pd.read_csv('Nikiforova_prep.csv', sep=';')\n",
    "df"
   ]
  },
  {
   "cell_type": "markdown",
   "metadata": {},
   "source": [
    "## Корреляционная матрица"
   ]
  },
  {
   "cell_type": "markdown",
   "metadata": {},
   "source": [
    "Снова выведем эту матрицу, но уже с удалёнными переременными."
   ]
  },
  {
   "cell_type": "code",
   "execution_count": 3,
   "metadata": {},
   "outputs": [
    {
     "data": {
      "image/png": "[encoded data removed]",
      "text/plain": [
       "<Figure size 864x648 with 2 Axes>"
      ]
     },
     "metadata": {
      "needs_background": "light"
     },
     "output_type": "display_data"
    }
   ],
   "source": [
    "import seaborn as sns\n",
    "corrmat = df.corr()\n",
    "f, ax = plt.subplots(figsize=(12, 9))\n",
    "sns.heatmap(corrmat, annot=True)\n",
    "plt.show()"
   ]
  },
  {
   "cell_type": "markdown",
   "metadata": {},
   "source": [
    "## Разбиение"
   ]
  },
  {
   "cell_type": "markdown",
   "metadata": {},
   "source": [
    "Поделим датасет на обучающую train (80%) и тестовую test (20%) выборки. В Х запишем все переменные, кроме зависимой. У нас таковой является доход (store_checks). Его мы запишем в Y."
   ]
  },
  {
   "cell_type": "code",
   "execution_count": 4,
   "metadata": {},
   "outputs": [],
   "source": [
    "X = df.iloc[:, :-1]\n",
    "y = df['store_checks']\n",
    "from sklearn.model_selection import train_test_split\n",
    "X_train, X_test, y_train, y_test = train_test_split(X, y, test_size=0.2, random_state=10)"
   ]
  },
  {
   "cell_type": "markdown",
   "metadata": {},
   "source": [
    "## Простая линейная регрессия"
   ]
  },
  {
   "cell_type": "markdown",
   "metadata": {},
   "source": [
    "Количество сотрудников (staff) имеет самое сильное влияние на store_checks (см. Корреляционную матрицу), поэтому мы будем использовать её для простой линейной регрессии."
   ]
  },
  {
   "cell_type": "code",
   "execution_count": 5,
   "metadata": {},
   "outputs": [
    {
     "data": {
      "text/plain": [
       "(array([862.66760895]), -96.2235571260303)"
      ]
     },
     "execution_count": 5,
     "metadata": {},
     "output_type": "execute_result"
    }
   ],
   "source": [
    "f1 = ['staff']\n",
    "\n",
    "from sklearn.linear_model import LinearRegression\n",
    "sr = LinearRegression().fit(X_train[f1], y_train)\n",
    "\n",
    "sr.coef_, sr.intercept_"
   ]
  },
  {
   "cell_type": "markdown",
   "metadata": {},
   "source": [
    "Прогнозируем данные для тестовой выборки.Вычисляем коэффициент детерминации. Видим, что он нормальный, пока нам не с чем сравнивать."
   ]
  },
  {
   "cell_type": "code",
   "execution_count": 6,
   "metadata": {},
   "outputs": [
    {
     "data": {
      "text/plain": [
       "0.579"
      ]
     },
     "execution_count": 6,
     "metadata": {},
     "output_type": "execute_result"
    }
   ],
   "source": [
    "y_pred = sr.predict(X_test[f1])\n",
    "\n",
    "sr.score(X_train[f1], y_train).round(3)"
   ]
  },
  {
   "cell_type": "markdown",
   "metadata": {},
   "source": [
    "Теперь находим среднеквадратические ошибки для обучающей и тестовой выборки. Модель немного переобучена, но не критично."
   ]
  },
  {
   "cell_type": "code",
   "execution_count": 7,
   "metadata": {},
   "outputs": [
    {
     "data": {
      "text/plain": [
       "(1278.84, 1307.51)"
      ]
     },
     "execution_count": 7,
     "metadata": {},
     "output_type": "execute_result"
    }
   ],
   "source": [
    "from sklearn.metrics import mean_squared_error\n",
    "mean_squared_error(y_train, sr.predict(X_train[f1]), squared=False).round(2), mean_squared_error(y_test, y_pred, squared=False).round(2)"
   ]
  },
  {
   "cell_type": "markdown",
   "metadata": {},
   "source": [
    "Визуализируем результат. Видим, что модель плохо описывает данные. "
   ]
  },
  {
   "cell_type": "code",
   "execution_count": 8,
   "metadata": {},
   "outputs": [
    {
     "data": {
      "image/png": "[encoded data removed]",
      "text/plain": [
       "<Figure size 432x288 with 1 Axes>"
      ]
     },
     "metadata": {
      "needs_background": "light"
     },
     "output_type": "display_data"
    }
   ],
   "source": [
    "plt.scatter(X_test['staff'], y_test, color = 'green')\n",
    "plt.plot(X_test['staff'], sr.predict(X_test[f1]), 'mo')\n",
    "plt.title('store_checks vs staff (Test set)')\n",
    "plt.xlabel('staff')\n",
    "plt.ylabel('store_checks')\n",
    "plt.show()"
   ]
  },
  {
   "cell_type": "markdown",
   "metadata": {},
   "source": [
    "## Множественная линейная регрессия"
   ]
  },
  {
   "cell_type": "markdown",
   "metadata": {},
   "source": [
    "Пробуем построить множественную линейную регрессию.Коєффициент детерминации увеличился на 10%, что является позитивным моментом."
   ]
  },
  {
   "cell_type": "code",
   "execution_count": 9,
   "metadata": {},
   "outputs": [
    {
     "data": {
      "text/plain": [
       "0.67"
      ]
     },
     "execution_count": 9,
     "metadata": {},
     "output_type": "execute_result"
    }
   ],
   "source": [
    "mr = LinearRegression().fit(X_train, y_train)\n",
    "\n",
    "mr.score(X_train, y_train).round(3)"
   ]
  },
  {
   "cell_type": "markdown",
   "metadata": {},
   "source": [
    "Визуализируем результат. Модель уже гораздо лучше описывает данные."
   ]
  },
  {
   "cell_type": "code",
   "execution_count": 10,
   "metadata": {},
   "outputs": [
    {
     "data": {
      "image/png": "[encoded data removed]",
      "text/plain": [
       "<Figure size 432x288 with 1 Axes>"
      ]
     },
     "metadata": {
      "needs_background": "light"
     },
     "output_type": "display_data"
    }
   ],
   "source": [
    "plt.scatter(X_test['staff'], y_test, color = 'green')\n",
    "plt.plot(X_test['staff'], mr.predict(X_test), 'mo')\n",
    "plt.title('store_checks vs staff (Test set)')\n",
    "plt.xlabel('staff')\n",
    "plt.ylabel('store_checks')\n",
    "plt.show()"
   ]
  },
  {
   "cell_type": "markdown",
   "metadata": {},
   "source": [
    "## p-values"
   ]
  },
  {
   "cell_type": "markdown",
   "metadata": {},
   "source": [
    "С помощью данной операции выбираем наиболее значимые для нас переменные."
   ]
  },
  {
   "cell_type": "code",
   "execution_count": 11,
   "metadata": {},
   "outputs": [
    {
     "data": {
      "text/html": [
       "<table class=\"simpletable\">\n",
       "<caption>OLS Regression Results</caption>\n",
       "<tr>\n",
       "  <th>Dep. Variable:</th>      <td>store_checks</td>   <th>  R-squared:         </th> <td>   0.670</td>\n",
       "</tr>\n",
       "<tr>\n",
       "  <th>Model:</th>                   <td>OLS</td>       <th>  Adj. R-squared:    </th> <td>   0.581</td>\n",
       "</tr>\n",
       "<tr>\n",
       "  <th>Method:</th>             <td>Least Squares</td>  <th>  F-statistic:       </th> <td>   7.560</td>\n",
       "</tr>\n",
       "<tr>\n",
       "  <th>Date:</th>             <td>Thu, 21 Oct 2021</td> <th>  Prob (F-statistic):</th> <td>6.68e-07</td>\n",
       "</tr>\n",
       "<tr>\n",
       "  <th>Time:</th>                 <td>13:16:33</td>     <th>  Log-Likelihood:    </th> <td> -447.91</td>\n",
       "</tr>\n",
       "<tr>\n",
       "  <th>No. Observations:</th>      <td>    53</td>      <th>  AIC:               </th> <td>   919.8</td>\n",
       "</tr>\n",
       "<tr>\n",
       "  <th>Df Residuals:</th>          <td>    41</td>      <th>  BIC:               </th> <td>   943.5</td>\n",
       "</tr>\n",
       "<tr>\n",
       "  <th>Df Model:</th>              <td>    11</td>      <th>                     </th>     <td> </td>   \n",
       "</tr>\n",
       "<tr>\n",
       "  <th>Covariance Type:</th>      <td>nonrobust</td>    <th>                     </th>     <td> </td>   \n",
       "</tr>\n",
       "</table>\n",
       "<table class=\"simpletable\">\n",
       "<tr>\n",
       "               <td></td>                  <th>coef</th>     <th>std err</th>      <th>t</th>      <th>P>|t|</th>  <th>[0.025</th>    <th>0.975]</th>  \n",
       "</tr>\n",
       "<tr>\n",
       "  <th>const</th>                       <td> 3535.5189</td> <td> 1850.411</td> <td>    1.911</td> <td> 0.063</td> <td> -201.463</td> <td> 7272.501</td>\n",
       "</tr>\n",
       "<tr>\n",
       "  <th>square</th>                      <td>   -8.6063</td> <td>    6.834</td> <td>   -1.259</td> <td> 0.215</td> <td>  -22.408</td> <td>    5.195</td>\n",
       "</tr>\n",
       "<tr>\n",
       "  <th>type</th>                        <td> -500.0122</td> <td>  452.786</td> <td>   -1.104</td> <td> 0.276</td> <td>-1414.433</td> <td>  414.408</td>\n",
       "</tr>\n",
       "<tr>\n",
       "  <th>staff</th>                       <td>  915.0291</td> <td>  144.984</td> <td>    6.311</td> <td> 0.000</td> <td>  622.228</td> <td> 1207.830</td>\n",
       "</tr>\n",
       "<tr>\n",
       "  <th>reviews</th>                     <td>    0.1413</td> <td>    3.215</td> <td>    0.044</td> <td> 0.965</td> <td>   -6.351</td> <td>    6.633</td>\n",
       "</tr>\n",
       "<tr>\n",
       "  <th>cars_per_day</th>                <td>    0.0051</td> <td>    0.005</td> <td>    0.997</td> <td> 0.325</td> <td>   -0.005</td> <td>    0.015</td>\n",
       "</tr>\n",
       "<tr>\n",
       "  <th>average_income_of_customers</th> <td>   -0.2891</td> <td>    0.140</td> <td>   -2.065</td> <td> 0.045</td> <td>   -0.572</td> <td>   -0.006</td>\n",
       "</tr>\n",
       "<tr>\n",
       "  <th>road</th>                        <td>  229.9279</td> <td>  450.999</td> <td>    0.510</td> <td> 0.613</td> <td> -680.884</td> <td> 1140.740</td>\n",
       "</tr>\n",
       "<tr>\n",
       "  <th>place_for_walk</th>              <td>  845.4889</td> <td>  583.837</td> <td>    1.448</td> <td> 0.155</td> <td> -333.593</td> <td> 2024.571</td>\n",
       "</tr>\n",
       "<tr>\n",
       "  <th>coating_quality</th>             <td>-1192.2615</td> <td>  694.568</td> <td>   -1.717</td> <td> 0.094</td> <td>-2594.969</td> <td>  210.446</td>\n",
       "</tr>\n",
       "<tr>\n",
       "  <th>spontaneous_trade</th>           <td> 1218.6059</td> <td>  763.096</td> <td>    1.597</td> <td> 0.118</td> <td> -322.497</td> <td> 2759.709</td>\n",
       "</tr>\n",
       "<tr>\n",
       "  <th>place_for_picnic</th>            <td> -357.6449</td> <td>  947.329</td> <td>   -0.378</td> <td> 0.708</td> <td>-2270.815</td> <td> 1555.525</td>\n",
       "</tr>\n",
       "</table>\n",
       "<table class=\"simpletable\">\n",
       "<tr>\n",
       "  <th>Omnibus:</th>       <td> 1.257</td> <th>  Durbin-Watson:     </th> <td>   2.055</td>\n",
       "</tr>\n",
       "<tr>\n",
       "  <th>Prob(Omnibus):</th> <td> 0.533</td> <th>  Jarque-Bera (JB):  </th> <td>   1.204</td>\n",
       "</tr>\n",
       "<tr>\n",
       "  <th>Skew:</th>          <td>-0.235</td> <th>  Prob(JB):          </th> <td>   0.548</td>\n",
       "</tr>\n",
       "<tr>\n",
       "  <th>Kurtosis:</th>      <td> 2.431</td> <th>  Cond. No.          </th> <td>5.30e+05</td>\n",
       "</tr>\n",
       "</table><br/><br/>Notes:<br/>[1] Standard Errors assume that the covariance matrix of the errors is correctly specified.<br/>[2] The condition number is large, 5.3e+05. This might indicate that there are<br/>strong multicollinearity or other numerical problems."
      ],
      "text/plain": [
       "<class 'statsmodels.iolib.summary.Summary'>\n",
       "\"\"\"\n",
       "                            OLS Regression Results                            \n",
       "==============================================================================\n",
       "Dep. Variable:           store_checks   R-squared:                       0.670\n",
       "Model:                            OLS   Adj. R-squared:                  0.581\n",
       "Method:                 Least Squares   F-statistic:                     7.560\n",
       "Date:                Thu, 21 Oct 2021   Prob (F-statistic):           6.68e-07\n",
       "Time:                        13:16:33   Log-Likelihood:                -447.91\n",
       "No. Observations:                  53   AIC:                             919.8\n",
       "Df Residuals:                      41   BIC:                             943.5\n",
       "Df Model:                          11                                         \n",
       "Covariance Type:            nonrobust                                         \n",
       "===============================================================================================\n",
       "                                  coef    std err          t      P>|t|      [0.025      0.975]\n",
       "-----------------------------------------------------------------------------------------------\n",
       "const                        3535.5189   1850.411      1.911      0.063    -201.463    7272.501\n",
       "square                         -8.6063      6.834     -1.259      0.215     -22.408       5.195\n",
       "type                         -500.0122    452.786     -1.104      0.276   -1414.433     414.408\n",
       "staff                         915.0291    144.984      6.311      0.000     622.228    1207.830\n",
       "reviews                         0.1413      3.215      0.044      0.965      -6.351       6.633\n",
       "cars_per_day                    0.0051      0.005      0.997      0.325      -0.005       0.015\n",
       "average_income_of_customers    -0.2891      0.140     -2.065      0.045      -0.572      -0.006\n",
       "road                          229.9279    450.999      0.510      0.613    -680.884    1140.740\n",
       "place_for_walk                845.4889    583.837      1.448      0.155    -333.593    2024.571\n",
       "coating_quality             -1192.2615    694.568     -1.717      0.094   -2594.969     210.446\n",
       "spontaneous_trade            1218.6059    763.096      1.597      0.118    -322.497    2759.709\n",
       "place_for_picnic             -357.6449    947.329     -0.378      0.708   -2270.815    1555.525\n",
       "==============================================================================\n",
       "Omnibus:                        1.257   Durbin-Watson:                   2.055\n",
       "Prob(Omnibus):                  0.533   Jarque-Bera (JB):                1.204\n",
       "Skew:                          -0.235   Prob(JB):                        0.548\n",
       "Kurtosis:                       2.431   Cond. No.                     5.30e+05\n",
       "==============================================================================\n",
       "\n",
       "Notes:\n",
       "[1] Standard Errors assume that the covariance matrix of the errors is correctly specified.\n",
       "[2] The condition number is large, 5.3e+05. This might indicate that there are\n",
       "strong multicollinearity or other numerical problems.\n",
       "\"\"\""
      ]
     },
     "execution_count": 11,
     "metadata": {},
     "output_type": "execute_result"
    }
   ],
   "source": [
    "import statsmodels.api as sm\n",
    "X1 = sm.add_constant(X_train)\n",
    "mr1 = sm.OLS(y_train, X1).fit()\n",
    "mr1.summary()"
   ]
  },
  {
   "cell_type": "markdown",
   "metadata": {},
   "source": [
    "Отобрали 3 наиболее значимых переменных-staff,average_income_of_customers,coating_quality."
   ]
  },
  {
   "cell_type": "code",
   "execution_count": 12,
   "metadata": {},
   "outputs": [],
   "source": [
    "from sklearn.feature_selection import RFE\n",
    "n_features = X.shape[1]\n",
    "estimator = LinearRegression()\n",
    "selector = RFE(estimator, n_features_to_select = 3)\n",
    "selector = selector.fit(X, y)\n",
    "\n",
    "selected_columns=[]\n",
    "for i in range(n_features):\n",
    "    if selector.support_[i] == True:\n",
    "        selected_columns.append(i)\n",
    "        \n",
    "f_lm = []\n",
    "for column in selected_columns:\n",
    "    f_lm.append(X.columns[column])"
   ]
  },
  {
   "cell_type": "markdown",
   "metadata": {},
   "source": [
    "Получили оптимизированную множественную линейную регрессию."
   ]
  },
  {
   "cell_type": "code",
   "execution_count": 13,
   "metadata": {},
   "outputs": [
    {
     "data": {
      "text/plain": [
       "(array([ 885.51288787,  662.38395584, -731.02957642]), -210.43228533902948)"
      ]
     },
     "execution_count": 13,
     "metadata": {},
     "output_type": "execute_result"
    }
   ],
   "source": [
    "mr_rfe = LinearRegression().fit(X_train[f_lm], y_train)\n",
    "\n",
    "mr_rfe.coef_, mr_rfe.intercept_"
   ]
  },
  {
   "cell_type": "markdown",
   "metadata": {},
   "source": [
    "Ниже представлен коэффицент детерминации полученной модели."
   ]
  },
  {
   "cell_type": "code",
   "execution_count": 14,
   "metadata": {},
   "outputs": [
    {
     "data": {
      "text/plain": [
       "0.608"
      ]
     },
     "execution_count": 14,
     "metadata": {},
     "output_type": "execute_result"
    }
   ],
   "source": [
    "y_pred = mr_rfe.predict(X_test[f_lm])\n",
    "\n",
    "mr_rfe.score(X_train[f_lm], y_train).round(3)"
   ]
  },
  {
   "cell_type": "markdown",
   "metadata": {},
   "source": [
    "Среднеквадратическая ошибка по обучающей выборке снизилась, модель теперь не переобучается. Явно множественная линейная регрессия нам больше подходит."
   ]
  },
  {
   "cell_type": "code",
   "execution_count": 15,
   "metadata": {},
   "outputs": [
    {
     "data": {
      "text/plain": [
       "(1233.42, 1112.16)"
      ]
     },
     "execution_count": 15,
     "metadata": {},
     "output_type": "execute_result"
    }
   ],
   "source": [
    "mean_squared_error(y_train, mr_rfe.predict(X_train[f_lm]), squared=False).round(2), mean_squared_error(y_test, y_pred, squared=False).round(2)"
   ]
  },
  {
   "cell_type": "markdown",
   "metadata": {},
   "source": [
    "Визуализация."
   ]
  },
  {
   "cell_type": "code",
   "execution_count": 16,
   "metadata": {},
   "outputs": [
    {
     "data": {
      "image/png": "[encoded data removed]",
      "text/plain": [
       "<Figure size 432x288 with 1 Axes>"
      ]
     },
     "metadata": {
      "needs_background": "light"
     },
     "output_type": "display_data"
    }
   ],
   "source": [
    "plt.scatter(X_test['staff'], y_test, color = 'green')\n",
    "plt.plot(X_test['staff'], mr_rfe.predict(X_test[f_lm]), 'mo')\n",
    "plt.title('  vs staff (Test set)')\n",
    "plt.xlabel('staff')\n",
    "plt.ylabel('store_checks')\n",
    "plt.show()"
   ]
  },
  {
   "cell_type": "markdown",
   "metadata": {},
   "source": [
    "## Backward Elimination"
   ]
  },
  {
   "cell_type": "markdown",
   "metadata": {},
   "source": [
    "Если у нас было бы слишком много переменных, то метод ниже был бы спасением, так как он автоматически отбирает нужные переменные."
   ]
  },
  {
   "cell_type": "code",
   "execution_count": 17,
   "metadata": {},
   "outputs": [],
   "source": [
    "def backwardElimination(x, y, sl):\n",
    "    x = sm.add_constant(x)\n",
    "    numVars = x.shape[1]\n",
    "    for i in range(0, numVars):\n",
    "        regressor_OLS = sm.OLS(y, x).fit()\n",
    "        maxVar = max(regressor_OLS.pvalues)\n",
    "        if maxVar > sl:\n",
    "            for j in range(0, numVars - i):\n",
    "                if (regressor_OLS.pvalues[j] == maxVar):\n",
    "                    x = x.drop(x.columns[j], axis=1)\n",
    "    regressor_OLS.summary()\n",
    "    return x\n",
    "\n",
    "SL = 0.1\n",
    "X_Modeled = backwardElimination(X_train, y_train, SL)"
   ]
  },
  {
   "cell_type": "markdown",
   "metadata": {},
   "source": [
    "Получили почти такой же коэффициент детерминации."
   ]
  },
  {
   "cell_type": "code",
   "execution_count": 18,
   "metadata": {},
   "outputs": [
    {
     "data": {
      "text/plain": [
       "0.579"
      ]
     },
     "execution_count": 18,
     "metadata": {},
     "output_type": "execute_result"
    }
   ],
   "source": [
    "mr_be = LinearRegression().fit(X_Modeled, y_train)\n",
    "\n",
    "mr_be.score(X_Modeled, y_train).round(3)"
   ]
  },
  {
   "cell_type": "markdown",
   "metadata": {},
   "source": [
    "## Полиномиальная регрессия"
   ]
  },
  {
   "cell_type": "code",
   "execution_count": 19,
   "metadata": {},
   "outputs": [
    {
     "data": {
      "text/plain": [
       "(array([-1.27056711e+01,  1.07348868e+03, -1.35365346e+03, -2.21724387e+04,\n",
       "         6.13142324e+02,  5.75603176e-01, -4.81817603e+00,  1.24580608e+04,\n",
       "        -1.52237406e+03, -3.09291180e-01, -3.00312100e+00,  2.40870152e-05,\n",
       "         4.42243644e-01,  3.69834229e+01, -2.98667154e+01,  5.53880173e-01,\n",
       "         2.61711825e-04, -8.97217499e-02, -3.29981821e+01, -1.16387922e+02,\n",
       "        -1.60530855e+02,  2.91910114e+02,  4.07639102e-06, -1.32313040e+03,\n",
       "         7.78673922e+02,  2.57774008e+01,  2.54092181e-02, -3.26584661e-01,\n",
       "        -1.27351627e+03, -1.81810189e+02, -1.93233955e+01,  1.22631401e+01,\n",
       "        -1.69738600e-05,  1.09085934e+03,  1.06715761e+01, -9.56889891e-03,\n",
       "         1.38153034e+00, -3.75092931e+02,  1.20345092e+03, -6.57274564e+01,\n",
       "        -3.09433636e+01, -4.92476911e-05, -4.11707352e-01, -2.31997174e-04,\n",
       "        -5.52586647e-02, -1.14547781e+02,  1.63026678e+02,  4.94411464e+00,\n",
       "         4.09613070e+01, -5.68251258e-04,  4.04235315e-07, -4.68079324e-05,\n",
       "        -1.77232437e-01,  5.35836343e-01, -5.00617024e-02,  1.63058283e-01,\n",
       "         1.74895925e-01,  2.56877154e-04, -1.28122529e+00, -8.46184865e-01,\n",
       "         5.73975316e-01, -9.03782473e-01, -5.44202550e-02,  1.24580601e+04,\n",
       "         4.48132372e+03, -3.85433503e+00,  4.78574974e-01, -1.69785625e-05,\n",
       "        -1.52237448e+03,  0.00000000e+00,  0.00000000e+00,  0.00000000e+00,\n",
       "        -3.09320615e-01,  9.76247323e+00,  0.00000000e+00, -3.00346648e+00,\n",
       "         0.00000000e+00, -7.64124066e-06]),\n",
       " 31678.748879599963)"
      ]
     },
     "execution_count": 19,
     "metadata": {},
     "output_type": "execute_result"
    }
   ],
   "source": [
    "from sklearn.preprocessing import PolynomialFeatures\n",
    "X_train_p = PolynomialFeatures().fit_transform(X_train)\n",
    "X_test_p = PolynomialFeatures().fit_transform(X_test)\n",
    "\n",
    "pr = LinearRegression().fit(X_train_p, y_train)\n",
    "\n",
    "pr.coef_, pr.intercept_"
   ]
  },
  {
   "cell_type": "markdown",
   "metadata": {},
   "source": [
    "Удалось значительно увеличить коэффициет детерминации."
   ]
  },
  {
   "cell_type": "code",
   "execution_count": 20,
   "metadata": {},
   "outputs": [
    {
     "data": {
      "text/plain": [
       "0.996"
      ]
     },
     "execution_count": 20,
     "metadata": {},
     "output_type": "execute_result"
    }
   ],
   "source": [
    "y_pred = pr.predict(X_test_p)\n",
    "\n",
    "pr.score(X_train_p, y_train).round(3)"
   ]
  },
  {
   "cell_type": "markdown",
   "metadata": {},
   "source": [
    "Но модель теперь жутко преобучена, так как ошибка на тестовой в десятки раз больше."
   ]
  },
  {
   "cell_type": "code",
   "execution_count": 21,
   "metadata": {},
   "outputs": [
    {
     "data": {
      "text/plain": [
       "(119.99, 7443.36)"
      ]
     },
     "execution_count": 21,
     "metadata": {},
     "output_type": "execute_result"
    }
   ],
   "source": [
    "mean_squared_error(y_train, pr.predict(X_train_p), squared=False).round(2), mean_squared_error(y_test, y_pred, squared=False).round(2)"
   ]
  },
  {
   "cell_type": "markdown",
   "metadata": {},
   "source": [
    "Визуализация."
   ]
  },
  {
   "cell_type": "code",
   "execution_count": 22,
   "metadata": {},
   "outputs": [
    {
     "data": {
      "image/png": "[encoded data removed]",
      "text/plain": [
       "<Figure size 432x288 with 1 Axes>"
      ]
     },
     "metadata": {
      "needs_background": "light"
     },
     "output_type": "display_data"
    }
   ],
   "source": [
    "plt.scatter(X_test['staff'], y_test, color = 'green')\n",
    "plt.plot(X_test['staff'], pr.predict(X_test_p), 'mo')\n",
    "plt.title('store_checks vs staff (Test set)')\n",
    "plt.xlabel('staff')\n",
    "plt.ylabel('store_checks')\n",
    "plt.show()"
   ]
  },
  {
   "cell_type": "markdown",
   "metadata": {},
   "source": [
    "## Вывод: модель простой линейной регрессии слишком простая, она немного переобучена и имеет низкий коэффициент детерминации. Это логично, так как количество чеков вряд ли зависит только от количества сотрудников. Полиномиальная слишком переобучена, поэтому нет смысла её использовать, а вот множественная линейная регрессия как раз является сейчас оптимальным вариантом."
   ]
  },
  {
   "cell_type": "markdown",
   "metadata": {},
   "source": [
    "## Консервирование"
   ]
  },
  {
   "cell_type": "code",
   "execution_count": 23,
   "metadata": {},
   "outputs": [],
   "source": [
    "import pickle\n",
    "obj = {'X_train': X_train, 'X_test': X_test,'y_train': y_train,'y_test': y_test}\n",
    "output = open('data_reg.pkl', 'wb')\n",
    "pickle.dump(obj, output, 2)\n",
    "output.close()"
   ]
  }
 ],
 "metadata": {
  "kernelspec": {
   "display_name": "Python 3",
   "language": "python",
   "name": "python3"
  },
  "language_info": {
   "codemirror_mode": {
    "name": "ipython",
    "version": 3
   },
   "file_extension": ".py",
   "mimetype": "text/x-python",
   "name": "python",
   "nbconvert_exporter": "python",
   "pygments_lexer": "ipython3",
   "version": "3.8.5"
  }
 },
 "nbformat": 4,
 "nbformat_minor": 4
}
